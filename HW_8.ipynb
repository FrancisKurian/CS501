{
  "nbformat": 4,
  "nbformat_minor": 0,
  "metadata": {
    "colab": {
      "name": "HW#8.ipynb",
      "provenance": [],
      "collapsed_sections": [],
      "authorship_tag": "ABX9TyMrdWrnzAlEEV5CDOYEwsCd",
      "include_colab_link": true
    },
    "kernelspec": {
      "name": "python3",
      "display_name": "Python 3"
    }
  },
  "cells": [
    {
      "cell_type": "markdown",
      "metadata": {
        "id": "view-in-github",
        "colab_type": "text"
      },
      "source": [
        "<a href=\"https://colab.research.google.com/github/FrancisKurian/CS501/blob/main/HW_8.ipynb\" target=\"_parent\"><img src=\"https://colab.research.google.com/assets/colab-badge.svg\" alt=\"Open In Colab\"/></a>"
      ]
    },
    {
      "cell_type": "markdown",
      "metadata": {
        "id": "FCRk_E4bbvtB"
      },
      "source": [
        "# **Problem#1**\n",
        "# a. If you toss a fair coin 5 times, what is the theoretical probability of getting 5 consecutive tails?\n",
        "Write Python code that computes this probability. (Answer P(5cT) = 0.03125)\n",
        "\n",
        "![image.png](data:image/png;base64,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)\n"
      ]
    },
    {
      "cell_type": "code",
      "metadata": {
        "id": "X6Z3-Y0tgbee",
        "colab": {
          "base_uri": "https://localhost:8080/",
          "height": 34
        },
        "outputId": "8cc485ee-03be-453b-a9a2-48017d3982bc"
      },
      "source": [
        "# program to find probability  \n",
        "# of getting K tails  in N coin tosses \n",
        "  \n",
        "# Function to calculate factorial  \n",
        "def fact(n): \n",
        "    res = 1\n",
        "    for i in range(2, n + 1):  \n",
        "        res = res * i \n",
        "    return res \n",
        "  \n",
        "# Applying the formula  \n",
        "def count_tails(n, r): \n",
        "      \n",
        "    output = fact(n) / (fact(r) * fact(n - r)) \n",
        "    output = output / (pow(2, n)) \n",
        "    return output \n",
        "  \n",
        "# Driver code \n",
        "n = 5\n",
        "r = 5\n",
        "  \n",
        "# Call count_heads with n and r \n",
        "print ('Probability of getting',r,'Tails out of',n,'tosses is:',count_tails(n, r)) "
      ],
      "execution_count": null,
      "outputs": [
        {
          "output_type": "stream",
          "text": [
            "Probability of getting 5 Tails out of 5 tosses is: 0.03125\n"
          ],
          "name": "stdout"
        }
      ]
    },
    {
      "cell_type": "markdown",
      "metadata": {
        "id": "OidOIj4YiKid"
      },
      "source": [
        "# b)Write Python code that simulates 5 tosses of a coin and then counts the number of tails in the experiment.\n",
        "Trial#1: Toss a coin 5 times, compute the number of tails."
      ]
    },
    {
      "cell_type": "code",
      "metadata": {
        "id": "44A_bjVciP7g",
        "colab": {
          "base_uri": "https://localhost:8080/",
          "height": 50
        },
        "outputId": "25d0236b-4a49-434a-a9a6-85bbfcdb00b7"
      },
      "source": [
        "import numpy as np\n",
        "import random\n",
        "outcome=['Heads','Tails']\n",
        "recordList=[]\n",
        "for i in range(5):\n",
        "  recordList.append(random.choice(outcome))\n",
        "print(recordList)\n",
        "print('Number of Tails:', str(recordList.count(\"Tails\")))\n"
      ],
      "execution_count": null,
      "outputs": [
        {
          "output_type": "stream",
          "text": [
            "['Tails', 'Heads', 'Heads', 'Tails', 'Heads']\n",
            "Number of Tails: 2\n"
          ],
          "name": "stdout"
        }
      ]
    },
    {
      "cell_type": "markdown",
      "metadata": {
        "id": "ec24KBZjA35X"
      },
      "source": [
        "# c. Write Python code that repeats step (b) 100 times. How many times we get 5 consecutive tails?\n",
        "Repeat Trial#1 100 times"
      ]
    },
    {
      "cell_type": "code",
      "metadata": {
        "id": "cKDaX-DWBSbi",
        "colab": {
          "base_uri": "https://localhost:8080/",
          "height": 50
        },
        "outputId": "306ad6c9-b0b2-49b1-9296-d89c5c6de223"
      },
      "source": [
        "import random\n",
        "outcome=['Heads','Tails']\n",
        "recordList=[]\n",
        "\n",
        "# function uses 2 loops to mimic the coin tossing. Toss the coin 5 times and repeat the event for a specified number\n",
        "def tosser(toss):\n",
        "  success=0\n",
        "  win=0\n",
        "  for i in range(toss):\n",
        "    for i in range(5):\n",
        "      if random.choice(outcome) == 'Tails':\n",
        "        win += 1\n",
        "    if win == 5:\n",
        "      success += 1\n",
        "        #   print(win)\n",
        "      win=0\n",
        "    else: win=0\n",
        "  \n",
        "  print('# of Tosses:',toss)\n",
        "  return success/toss\n",
        "print('Probability of winning 5 consecutive Tails:',tosser(100))\n"
      ],
      "execution_count": null,
      "outputs": [
        {
          "output_type": "stream",
          "text": [
            "# of Tosses: 100\n",
            "Probability of winning 5 consecutive Tails: 0.03\n"
          ],
          "name": "stdout"
        }
      ]
    },
    {
      "cell_type": "markdown",
      "metadata": {
        "id": "JXk6wp70UO_h"
      },
      "source": [
        "# d. Write Python code that repeats step (b) 10,000 times. How many times (percentage) we get 5 consecutive tails? \n",
        "Your computed result obtained by simulation should be approximately equal\n",
        "to the theoretical probability computed in step (a) (P(5cT) = 0.03125).\n",
        "Repeat Trial#1 10,000 times\n"
      ]
    },
    {
      "cell_type": "code",
      "metadata": {
        "id": "LP9y3LyJK16Q",
        "colab": {
          "base_uri": "https://localhost:8080/",
          "height": 50
        },
        "outputId": "19a6a73c-9e78-49f0-e477-1dc97ee2eef8"
      },
      "source": [
        "import random\n",
        "outcome=['Heads','Tails']\n",
        "recordList=[]\n",
        "\n",
        "def tosser(toss):\n",
        "  success=0\n",
        "  win=0\n",
        "  for i in range(toss):\n",
        "    for i in range(5):\n",
        "      if random.choice(outcome) == 'Tails':\n",
        "        win += 1\n",
        "    if win == 5:\n",
        "      success += 1\n",
        "        #   print(win)\n",
        "      win=0\n",
        "    else: win=0\n",
        "  \n",
        "  return success\n",
        "\n",
        " # Call the function to excute the coin toss and compute success events\n",
        "\n",
        "x= 10000\n",
        "y=tosser(x)\n",
        "print('# of Tosses:',x)\n",
        "print('Probability of winning 5 consecutive Tails:',y/x)"
      ],
      "execution_count": null,
      "outputs": [
        {
          "output_type": "stream",
          "text": [
            "# of Tosses: 10000\n",
            "Probability of winning 5 consecutive Tails: 0.0319\n"
          ],
          "name": "stdout"
        }
      ]
    },
    {
      "cell_type": "markdown",
      "metadata": {
        "id": "WylXH-MIdEWb"
      },
      "source": [
        "# e. Let us estimate the variation of P(5cT) metric. In step ‘c’ we tossed a coin 5 times and repeated this experiment 100 times, and then we counted the number of ‘tails’. Write Python code that repeats this experiment of step ‘c’ 10,000 times. Generate a histogram of P(5cT) metric.\n",
        "\n",
        "Trial#2: Repeat Trial#1 100 times Repeat Trial#2 10,000 times and plot the histogram of this distribution\n",
        "\n",
        "Difference between step (d) and step (e).\n",
        "• In step (d) we repeat the experiment 10,000 times.\n",
        "• In step (e) we repeat the experiment 100 times and reset the counters. We repeat the\n",
        "same experiment 10,000 times.\n"
      ]
    },
    {
      "cell_type": "code",
      "metadata": {
        "id": "dpJrchU5S8R0",
        "colab": {
          "base_uri": "https://localhost:8080/",
          "height": 284
        },
        "outputId": "90b5d39f-34da-458e-deae-5bc0335cd5b5"
      },
      "source": [
        "from datascience import  *\n",
        "import numpy as np\n",
        "from pandas import DataFrame\n",
        "%matplotlib inline\n",
        "xreturn =[]  #list to capture the 5 consecutive sucesses in every 100 tosses\n",
        "\n",
        "def toss100(rpt): # executes the tosser funtion 10,000 times with 100 tossing blocks\n",
        "  for i in range(rpt):\n",
        "    xreturn.append(tosser(100))\n",
        "\n",
        "def tosshist(tbl): # function creates a histogram using the data collected from tossing event\n",
        "  tbl.hist('success',bins=np.arange(0.5,12,1), unit='Number of 5 consecutive Tails')\n",
        "\n",
        "# Repeat the 100 toss blocks 10,000 times and save consecutive 5 tail counts into a list\n",
        "\n",
        "toss100(10000)\n",
        "\n",
        "tb2= Table.from_df(DataFrame(xreturn,columns=['success']))\n",
        "tosshist(tb2) # tb2 captures count of 5 consecutive tails  "
      ],
      "execution_count": null,
      "outputs": [
        {
          "output_type": "display_data",
          "data": {
            "image/png": "[encoded data removed]",
            "text/plain": [
              "<Figure size 432x288 with 1 Axes>"
            ]
          },
          "metadata": {
            "tags": [],
            "needs_background": "light"
          }
        }
      ]
    }
  ]
}