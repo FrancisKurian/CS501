{
  "nbformat": 4,
  "nbformat_minor": 0,
  "metadata": {
    "colab": {
      "name": "Classproject2.ipynb",
      "provenance": [],
      "collapsed_sections": [],
      "toc_visible": true,
      "authorship_tag": "ABX9TyP/e6uyyAFOtVijAX8qObdK",
      "include_colab_link": true
    },
    "kernelspec": {
      "name": "python3",
      "display_name": "Python 3"
    }
  },
  "cells": [
    {
      "cell_type": "markdown",
      "metadata": {
        "id": "view-in-github",
        "colab_type": "text"
      },
      "source": [
        "<a href=\"https://colab.research.google.com/github/FrancisKurian/CS501/blob/main/Classproject2.ipynb\" target=\"_parent\"><img src=\"https://colab.research.google.com/assets/colab-badge.svg\" alt=\"Open In Colab\"/></a>"
      ]
    },
    {
      "cell_type": "code",
      "metadata": {
        "id": "F5sCG0kglyEe"
      },
      "source": [
        "import numpy as np\n",
        "import pandas as pd\n",
        "import matplotlib.pyplot as plt\n",
        "%matplotlib inline "
      ],
      "execution_count": null,
      "outputs": []
    },
    {
      "cell_type": "code",
      "metadata": {
        "colab": {
          "base_uri": "https://localhost:8080/"
        },
        "id": "bEZ6l8ySY_tN",
        "outputId": "3ae9e9f2-0f61-4018-b205-dc5dec2574f6"
      },
      "source": [
        "# project 3 NLP\n",
        "from textblob import TextBlob\n",
        "import nltk\n",
        "nltk.download('punkt')\n",
        "nltk.download('brown')\n",
        "nltk.download('stopwords')\n",
        "from nltk.corpus import stopwords"
      ],
      "execution_count": null,
      "outputs": [
        {
          "output_type": "stream",
          "text": [
            "[nltk_data] Downloading package punkt to /root/nltk_data...\n",
            "[nltk_data]   Unzipping tokenizers/punkt.zip.\n",
            "[nltk_data] Downloading package brown to /root/nltk_data...\n",
            "[nltk_data]   Unzipping corpora/brown.zip.\n",
            "[nltk_data] Downloading package stopwords to /root/nltk_data...\n",
            "[nltk_data]   Unzipping corpora/stopwords.zip.\n"
          ],
          "name": "stdout"
        }
      ]
    },
    {
      "cell_type": "code",
      "metadata": {
        "colab": {
          "base_uri": "https://localhost:8080/"
        },
        "id": "m-2L7Ez9sjLa",
        "outputId": "e2c3e7ea-38d1-47f5-e2d0-1ac7a0699f64"
      },
      "source": [
        "from textblob import TextBlob\n",
        "import nltk\n",
        "# nltk.download('punkt')\n",
        "# nltk.download('brown')\n",
        "# nltk.download('stopwords')\n",
        "\n",
        "text=\"\"\"Two households, both alike in dignity,In fair Verona, where we lay our scene,From ancient grudge break to new mutiny,' \n",
        "'Where civil blood makes civil hands unclean.From forth the fatal loins of these two foes A pair of star-cross’d lovers take their life;'\n",
        "'Whose misadventur’d piteous overthrows\"\"\"\n",
        "blobText =TextBlob(text)\n",
        "\n",
        "test_1=\"\"\n",
        "for i in range(0, len(blobText.words)):\n",
        " test_1+= (str(i)+\". \"+ blobText.words[i]+\",\"+\"_\")\n",
        "\n",
        "test_2=list(test_1.split(\"_\")) \n",
        "\n",
        "def print_words(num_words):\n",
        "   print(*test_2[num_words:num_words+10])\n",
        "\n",
        "\n",
        "for i in range(0, len(blobText.words),10):\n",
        "  print_words(i)\n",
        "\n",
        "print(\"\\n\", \"Count of words =\", len(blobText.words))\n",
        "\n",
        "\n"
      ],
      "execution_count": null,
      "outputs": [
        {
          "output_type": "stream",
          "text": [
            "0. Two, 1. households, 2. both, 3. alike, 4. in, 5. dignity, 6. In, 7. fair, 8. Verona, 9. where,\n",
            "10. we, 11. lay, 12. our, 13. scene, 14. From, 15. ancient, 16. grudge, 17. break, 18. to, 19. new,\n",
            "20. mutiny, 21. 'Where, 22. civil, 23. blood, 24. makes, 25. civil, 26. hands, 27. unclean.From, 28. forth, 29. the,\n",
            "30. fatal, 31. loins, 32. of, 33. these, 34. two, 35. foes, 36. A, 37. pair, 38. of, 39. star-cross,\n",
            "40. ’, 41. d, 42. lovers, 43. take, 44. their, 45. life, 46. 'Whose, 47. misadventur, 48. ’, 49. d,\n",
            "50. piteous, 51. overthrows, \n",
            "\n",
            " Count of words = 52\n"
          ],
          "name": "stdout"
        }
      ]
    },
    {
      "cell_type": "code",
      "metadata": {
        "colab": {
          "resources": {
            "http://localhost:8080/nbextensions/google.colab/files.js": {
              "data": "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",
              "ok": true,
              "headers": [
                [
                  "content-type",
                  "application/javascript"
                ]
              ],
              "status": 200,
              "status_text": ""
            }
          },
          "base_uri": "https://localhost:8080/",
          "height": 73
        },
        "id": "aDnjeKU_ZXZs",
        "outputId": "919e7adf-5fb8-4020-fdbc-410837c297d6"
      },
      "source": [
        "from google.colab import files\n",
        "uploaded = files.upload()"
      ],
      "execution_count": null,
      "outputs": [
        {
          "output_type": "display_data",
          "data": {
            "text/html": [
              "\n",
              "     <input type=\"file\" id=\"files-b0615fdf-16f4-4bae-8f83-673422e53914\" name=\"files[]\" multiple disabled\n",
              "        style=\"border:none\" />\n",
              "     <output id=\"result-b0615fdf-16f4-4bae-8f83-673422e53914\">\n",
              "      Upload widget is only available when the cell has been executed in the\n",
              "      current browser session. Please rerun this cell to enable.\n",
              "      </output>\n",
              "      <script src=\"/nbextensions/google.colab/files.js\"></script> "
            ],
            "text/plain": [
              "<IPython.core.display.HTML object>"
            ]
          },
          "metadata": {
            "tags": []
          }
        },
        {
          "output_type": "stream",
          "text": [
            "Saving RomeoJuliet.txt to RomeoJuliet.txt\n"
          ],
          "name": "stdout"
        }
      ]
    },
    {
      "cell_type": "code",
      "metadata": {
        "colab": {
          "base_uri": "https://localhost:8080/"
        },
        "id": "Sv0dKaXeaAb7",
        "outputId": "15d97621-4160-4072-aef7-be6f83a3a36d"
      },
      "source": [
        "# Read the Romeo & Juliet text.\n",
        "textTotal = open('RomeoJuliet.txt').read()\n",
        "# Retrieve only the first 1,000 characters from the text\n",
        "blobTotal =TextBlob(textTotal)\n",
        "blob1000 = TextBlob(textTotal[0:1000])\n",
        "\n",
        "print(type(blob1000.words))\n",
        "print()\n",
        "test_1=\"\"\n",
        "for i in range(0, len(blob1000.words)):\n",
        " test_1+= (str(i)+\". \"+ blob1000.words[i]+\",\"+\"_\")\n",
        "\n",
        "test_2=list(test_1.split(\"_\")) #convert string test_1 to test\n",
        "\n",
        "def print_words(num_words):\n",
        "   print(*test_2[num_words:num_words+10])\n",
        "\n",
        "# for i in range(0, len(blob1000wordlist),10):\n",
        "#   print_words(i)\n",
        "\n",
        "for i in range(0, len(blob1000.words),10):\n",
        "  print_words(i)\n",
        "\n",
        "print(\"\\n\", \"Count of words =\", len(blob1000.words))\n"
      ],
      "execution_count": null,
      "outputs": [
        {
          "output_type": "stream",
          "text": [
            "<class 'textblob.blob.WordList'>\n",
            "\n",
            "0. Project, 1. Gutenberg, 2. ’, 3. s, 4. Romeo, 5. and, 6. Juliet, 7. by, 8. William, 9. Shakespeare,\n",
            "10. This, 11. eBook, 12. is, 13. for, 14. the, 15. use, 16. of, 17. anyone, 18. anywhere, 19. in,\n",
            "20. the, 21. United, 22. States, 23. and, 24. most, 25. other, 26. parts, 27. of, 28. the, 29. world,\n",
            "30. at, 31. no, 32. cost, 33. and, 34. with, 35. almost, 36. no, 37. restrictions, 38. whatsoever, 39. You,\n",
            "40. may, 41. copy, 42. it, 43. give, 44. it, 45. away, 46. or, 47. re-use, 48. it, 49. under,\n",
            "50. the, 51. terms, 52. of, 53. the, 54. Project, 55. Gutenberg, 56. License, 57. included, 58. with, 59. this,\n",
            "60. eBook, 61. or, 62. online, 63. at, 64. www.gutenberg.org, 65. If, 66. you, 67. are, 68. not, 69. located,\n",
            "70. in, 71. the, 72. United, 73. States, 74. you, 75. ’, 76. ll, 77. have, 78. to, 79. check,\n",
            "80. the, 81. laws, 82. of, 83. the, 84. country, 85. where, 86. you, 87. are, 88. located, 89. before,\n",
            "90. using, 91. this, 92. ebook, 93. Title, 94. Romeo, 95. and, 96. Juliet, 97. Author, 98. William, 99. Shakespeare,\n",
            "100. Release, 101. Date, 102. November, 103. 1998, 104. Etext, 105. 1513, 106. Last, 107. Updated, 108. January, 109. 30,\n",
            "110. 2019, 111. Language, 112. English, 113. Character, 114. set, 115. encoding, 116. UTF-8, 117. START, 118. OF, 119. THIS,\n",
            "120. PROJECT, 121. GUTENBERG, 122. EBOOK, 123. ROMEO, 124. AND, 125. JULIET, 126. This, 127. etext, 128. was, 129. produced,\n",
            "130. by, 131. the, 132. PG, 133. Shakespeare, 134. Team, 135. a, 136. team, 137. of, 138. about, 139. twenty,\n",
            "140. Project, 141. Gutenberg, 142. volunteers, 143. THE, 144. TRAGEDY, 145. OF, 146. ROMEO, 147. AND, 148. JULIET, 149. by,\n",
            "150. William, 151. Shakespeare, 152. Contents, 153. THE, 154. PROLOGUE, 155. ACT, 156. I, 157. Scene, 158. I, 159. A,\n",
            "160. public, 161. place, 162. Scene, 163. II, 164. A, 165. Street, 166. S, \n",
            "\n",
            " Count of words = 167\n"
          ],
          "name": "stdout"
        }
      ]
    },
    {
      "cell_type": "code",
      "metadata": {
        "colab": {
          "base_uri": "https://localhost:8080/"
        },
        "id": "E3Eb5xVz9TLu",
        "outputId": "1ac4fb1c-1f6a-46bf-9eb2-314e17b7e126"
      },
      "source": [
        "uniqwords =blobTotal.word_counts.items()\n",
        "print(\"Count of words=\", len(blobTotal.words))"
      ],
      "execution_count": null,
      "outputs": [
        {
          "output_type": "stream",
          "text": [
            "Count of words= 30796\n"
          ],
          "name": "stdout"
        }
      ]
    },
    {
      "cell_type": "code",
      "metadata": {
        "colab": {
          "base_uri": "https://localhost:8080/"
        },
        "id": "nM6Zemp0Vk5m",
        "outputId": "e4fef671-afae-4da9-dc56-8362155f654d"
      },
      "source": [
        "uniqwords =blobTotal.word_counts.items()\n",
        "\n",
        "print(\"The number of Unique words in the text=\",len(uniqwords))\n",
        "print(\"Count of words=\", len(blobTotal.words))"
      ],
      "execution_count": null,
      "outputs": [
        {
          "output_type": "stream",
          "text": [
            "The number of Unique words in the text= 4145\n",
            "Count of words= 30796\n"
          ],
          "name": "stdout"
        }
      ]
    },
    {
      "cell_type": "code",
      "metadata": {
        "colab": {
          "base_uri": "https://localhost:8080/"
        },
        "id": "LRHFhOOY1a-z",
        "outputId": "755a0a1e-7695-41e9-975b-76c7a590ae0d"
      },
      "source": [
        "import pandas as pd\n",
        "from operator import itemgetter\n",
        "from nltk.corpus import stopwords\n",
        "nltk.download('stopwords')\n",
        "from nltk.tokenize import word_tokenize\n",
        "\n",
        "text = textTotal\n",
        "all_stopwords = stopwords.words('english')\n",
        "text_tokens = word_tokenize(text)\n",
        "tokens_without_sw = [word.lower() for word in text_tokens if not word.lower() in all_stopwords]\n",
        "\n",
        "filtered_stop = [word.lower() for word in text_tokens if word.lower()  in all_stopwords]  \n",
        "StoplistToStr = ' '.join([str(elem) for elem in filtered_stop]) \n",
        "StopblobFiltered =TextBlob(StoplistToStr)\n",
        "\n",
        "StoplistToStr = ' '.join([str(elem) for elem in filtered_stop]) \n",
        "StopblobFiltered =TextBlob(StoplistToStr)\n",
        "Stopuniqwords =StopblobFiltered.word_counts.items()\n",
        "\n",
        "listToStr = ' '.join([str(elem) for elem in tokens_without_sw]) \n",
        "blobFiltered =TextBlob(listToStr)\n",
        "Fltuniqwords =blobFiltered.word_counts.items()\n",
        "print(\"-------------------------------------------------------------------------------------------------------------------\")\n",
        "print(\"The number of Unique words in the text=\",len(uniqwords))\n",
        "print(\"Number of Unique words in the text after removing the Stopwords=\",len(Fltuniqwords))\n",
        "print(\"Number of Stopwords the text=\",len(Stopuniqwords))\n",
        "\n",
        "print(\"-------------------------------------------------------------------------------------------------------------------\")"
      ],
      "execution_count": null,
      "outputs": [
        {
          "output_type": "stream",
          "text": [
            "[nltk_data] Downloading package stopwords to /root/nltk_data...\n",
            "[nltk_data]   Package stopwords is already up-to-date!\n",
            "-------------------------------------------------------------------------------------------------------------------\n",
            "The number of Unique words in the text= 4145\n",
            "Number of Unique words in the text after removing the Stopwords= 4030\n",
            "Number of Stopwords the text= 128\n",
            "-------------------------------------------------------------------------------------------------------------------\n"
          ],
          "name": "stdout"
        }
      ]
    },
    {
      "cell_type": "code",
      "metadata": {
        "colab": {
          "base_uri": "https://localhost:8080/"
        },
        "id": "XcDdiFBNDI90",
        "outputId": "f05f395c-68ba-4ead-d421-038948179a54"
      },
      "source": [
        "\n"
      ],
      "execution_count": null,
      "outputs": [
        {
          "output_type": "stream",
          "text": [
            "<class 'list'>\n",
            "   word  frequency\n",
            "0   the        876\n",
            "1     ’        869\n",
            "2   and        808\n",
            "3     i        655\n",
            "4    to        626\n",
            "5     a        542\n",
            "6    of        519\n",
            "7    in        395\n",
            "8    is        372\n",
            "9  that        369\n"
          ],
          "name": "stdout"
        }
      ]
    },
    {
      "cell_type": "code",
      "metadata": {
        "colab": {
          "base_uri": "https://localhost:8080/"
        },
        "id": "4t_Oe9xo9Bhx",
        "outputId": "6305bb12-52d2-4615-9be4-29a5f6a6cffa"
      },
      "source": [
        "print(\"--------------------Print the top-10 words in the entire text with highest frequency. Also display words’ frequency----------------\")\n",
        "sorted_uniq=sorted(list(uniqwords),key=itemgetter(1) ,reverse=True)\n",
        "TopWords=sorted_uniq[0:10]\n",
        "df=pd.DataFrame(TopWords,columns=['word','frequency'] )\n",
        "print(df)\n",
        "\n",
        "print(\"--------------------Print the top-10 words in the entire text with highest frequency after removing the stop-words ----------------\")\n",
        "\n",
        "sorted_uniq_flt=sorted(list(Fltuniqwords),key=itemgetter(1) ,reverse=True)\n",
        "TopWords2=sorted_uniq_flt[0:10]\n",
        "df2=pd.DataFrame(TopWords2,columns=['word','frequency'] )\n",
        "print(df2)\n"
      ],
      "execution_count": null,
      "outputs": [
        {
          "output_type": "stream",
          "text": [
            "--------------------Print the top-10 words in the entire text with highest frequency. Also display words’ frequency----------------\n",
            "   word  frequency\n",
            "0   the        876\n",
            "1     ’        869\n",
            "2   and        808\n",
            "3     i        655\n",
            "4    to        626\n",
            "5     a        542\n",
            "6    of        519\n",
            "7    in        395\n",
            "8    is        372\n",
            "9  that        369\n",
            "--------------------Print the top-10 words in the entire text with highest frequency after removing the stop-words ----------------\n",
            "      word  frequency\n",
            "0        ’        869\n",
            "1    romeo        320\n",
            "2     thou        278\n",
            "3   juliet        195\n",
            "4      thy        170\n",
            "5  capulet        163\n",
            "6    nurse        149\n",
            "7     love        148\n",
            "8     thee        138\n",
            "9     lady        117\n"
          ],
          "name": "stdout"
        }
      ]
    },
    {
      "cell_type": "code",
      "metadata": {
        "colab": {
          "base_uri": "https://localhost:8080/"
        },
        "id": "1bEaQxnJWinC",
        "outputId": "09134bfe-f0e1-4a47-b652-22c4ab29b7df"
      },
      "source": [
        "# Noun Phrases\n",
        "nouns_1k=list(blob1000.noun_phrases)\n",
        "print(\"Noun Phrases in the 1000 char text=\",len(blob1000.noun_phrases))\n",
        "\n",
        "print(\"Noun Phrases in the enitre text=\", len(blobTotal.noun_phrases))\n",
        "dictionary=blobTotal.np_counts\n",
        "dictionarypython=dict(dictionary)\n",
        "\n",
        "rankedlist=sorted(dictionary,key=dictionary.get,reverse=True)\n",
        "print(type(rankedlist))\n",
        "#######################################################\n",
        "test_1=\"\"\n",
        "for i in range(0, len(blob1000.noun_phrases)):\n",
        " test_1+= (str(i)+\". \"+ blob1000.noun_phrases[i]+\",\"+\"_\")\n",
        "\n",
        "test_2=list(test_1.split(\"_\")) #convert string test_1 to test\n",
        "\n",
        "def print_words(num_words):\n",
        "   print(*test_2[num_words:num_words+3])\n",
        "\n",
        "# for i in range(0, len(blob1000wordlist),10):\n",
        "#   print_words(i)\n",
        "\n",
        "for i in range(0, len(blob1000.noun_phrases),3):\n",
        "  print_words(i)\n",
        "\n",
        "print(\"\\n\", \"Count of words =\", len(blob1000.noun_phrases))\n",
        "\n",
        "#######################################################\n",
        "# print(\"-----------------Print the top-10 noun-phrases in the entire text with highest frequency-------------------------\")\n",
        "for i in range (0,10):\n",
        "  key=rankedlist[i]\n",
        "  value=dictionary[key]\n",
        "  print(str(i)+'   '+ key.capitalize()+' repeats '+str(value)+' times.')"
      ],
      "execution_count": null,
      "outputs": [
        {
          "output_type": "stream",
          "text": [
            "Noun Phrases in the 1000 char text= 28\n",
            "Noun Phrases in the enitre text= 5036\n",
            "<class 'list'>\n",
            "0. project gutenberg, 1. ’ s, 2. romeo,\n",
            "3. juliet, 4. william shakespeare, 5. restrictions whatsoever,\n",
            "6. project gutenberg license, 7. ’ ll, 8. title,\n",
            "9. romeo, 10. juliet author, 11. william shakespeare release date,\n",
            "12. november, 13. etext, 14. updated,\n",
            "15. january, 16. language, 17. english character,\n",
            "18. utf-8, 19. start of this project gutenberg ebook romeo and juliet, 20. pg shakespeare team,\n",
            "21. project gutenberg, 22. the tragedy of romeo and juliet, 23. william shakespeare contents the prologue,\n",
            "24. act, 25. scene, 26. public place,\n",
            "27. scene ii, \n",
            "\n",
            " Count of words = 28\n",
            "0   Romeo repeats 297 times.\n",
            "1   Juliet repeats 177 times.\n",
            "2   Nurse repeats 132 times.\n",
            "3   Capulet repeats 106 times.\n",
            "4   ’ s repeats 98 times.\n",
            "5   Mercutio repeats 86 times.\n",
            "6   Tybalt repeats 75 times.\n",
            "7   Benvolio repeats 72 times.\n",
            "8   Friar lawrence repeats 69 times.\n",
            "9   ’ ll repeats 68 times.\n"
          ],
          "name": "stdout"
        }
      ]
    },
    {
      "cell_type": "code",
      "metadata": {
        "colab": {
          "base_uri": "https://localhost:8080/"
        },
        "id": "_IusIWR765dE",
        "outputId": "2e88f6a4-94f3-4ff1-c6c8-4f5dd63569cc"
      },
      "source": [
        "print (\"10. Print the words in the entire text that contain a string “WA” \")\n",
        "\n",
        "for word in blobTotal.words:\n",
        "  if 'WA' in word:\n",
        "    print(word)"
      ],
      "execution_count": null,
      "outputs": [
        {
          "output_type": "stream",
          "text": [
            "10. Print the words in the entire text that contain a string “WA” \n",
            "WATCH\n",
            "WATCH\n",
            "WATCH\n",
            "WATCH\n",
            "WATCH\n",
            "WATCH\n",
            "WATCH\n",
            "WATCH\n",
            "WARRANTY\n",
            "WARRANTY\n",
            "WARRANTIES\n",
            "WARRANTIES\n"
          ],
          "name": "stdout"
        }
      ]
    },
    {
      "cell_type": "code",
      "metadata": {
        "colab": {
          "resources": {
            "http://localhost:8080/nbextensions/google.colab/files.js": {
              "data": "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",
              "ok": true,
              "headers": [
                [
                  "content-type",
                  "application/javascript"
                ]
              ],
              "status": 200,
              "status_text": ""
            }
          },
          "base_uri": "https://localhost:8080/",
          "height": 73
        },
        "id": "9UKhV2fe9J3x",
        "outputId": "7dbcebe3-a896-48f2-e3ec-03d9a4b596ea"
      },
      "source": [
        "#wordcloud\n",
        "from google.colab import files\n",
        "uploaded = files.upload()"
      ],
      "execution_count": null,
      "outputs": [
        {
          "output_type": "display_data",
          "data": {
            "text/html": [
              "\n",
              "     <input type=\"file\" id=\"files-2b8ae556-1733-453d-844a-7e3c96f9c669\" name=\"files[]\" multiple disabled\n",
              "        style=\"border:none\" />\n",
              "     <output id=\"result-2b8ae556-1733-453d-844a-7e3c96f9c669\">\n",
              "      Upload widget is only available when the cell has been executed in the\n",
              "      current browser session. Please rerun this cell to enable.\n",
              "      </output>\n",
              "      <script src=\"/nbextensions/google.colab/files.js\"></script> "
            ],
            "text/plain": [
              "<IPython.core.display.HTML object>"
            ]
          },
          "metadata": {
            "tags": []
          }
        },
        {
          "output_type": "stream",
          "text": [
            "Saving mask_heart.png to mask_heart.png\n"
          ],
          "name": "stdout"
        }
      ]
    },
    {
      "cell_type": "code",
      "metadata": {
        "colab": {
          "base_uri": "https://localhost:8080/"
        },
        "id": "G3LHy5iO96Z5",
        "outputId": "9df6fb72-15b5-4ce6-ff15-4dafc5cd3d32"
      },
      "source": [
        "import imageio\n",
        "mask_image=imageio.imread(str('mask_heart.png'))\n",
        "from wordcloud import WordCloud\n",
        "wordcloud =WordCloud(colormap='prism',mask=mask_image,background_color='white')\n",
        "wordcloudImage =wordcloud.generate(textTotal)\n",
        "\n",
        "print(type(wordcloudImage))\n",
        "wordcloudFile= wordcloudImage.to_file('Hamlet.png')\n",
        "wordcloudImage.to_image"
      ],
      "execution_count": null,
      "outputs": [
        {
          "output_type": "stream",
          "text": [
            "<class 'wordcloud.wordcloud.WordCloud'>\n"
          ],
          "name": "stdout"
        },
        {
          "output_type": "execute_result",
          "data": {
            "text/plain": [
              "<bound method WordCloud.to_image of <wordcloud.wordcloud.WordCloud object at 0x7f4a798fa550>>"
            ]
          },
          "metadata": {
            "tags": []
          },
          "execution_count": 97
        }
      ]
    },
    {
      "cell_type": "code",
      "metadata": {
        "colab": {
          "base_uri": "https://localhost:8080/"
        },
        "id": "jQNyQPxX_-Id",
        "outputId": "b5f2d5eb-e94e-4901-e8cc-4ec9763c42b0"
      },
      "source": [
        "#sentence analysis\n",
        "print(\"Total Number of Sentences in Hamlet=\",len(blobTotal.sentences))\n",
        "\n",
        "string1=\"Queen\"\n",
        "count=0\n",
        "for s in blobTotal.sentences:\n",
        "  if(string1 in s) :\n",
        "    print(s)\n",
        "    print()\n",
        "    count+=1\n",
        "print(\"The number of sentences in the text that contain the word ‘Queen’= \",count)\n"
      ],
      "execution_count": null,
      "outputs": [
        {
          "output_type": "stream",
          "text": [
            "Total Number of Sentences in Hamlet= 3169\n",
            "O, then, I see Queen Mab hath been with you.\n",
            "\n",
            "The number of sentences in the text that contain the word ‘Queen’=  1\n"
          ],
          "name": "stdout"
        }
      ]
    },
    {
      "cell_type": "code",
      "metadata": {
        "colab": {
          "base_uri": "https://localhost:8080/",
          "height": 882
        },
        "id": "QIP11jgMP56O",
        "outputId": "d8fd2776-054d-4031-a2b3-6b039b791c78"
      },
      "source": [
        "from datascience import *\n",
        "list_length=[]\n",
        "for s in blobTotal.sentences:\n",
        "  list_length.append(len(s))\n",
        "  \n",
        "t1=Table().with_column('Sentence',blobTotal.sentences,'Length',list_length)\n",
        "sortedTableLong =t1.sort('Length',descending=True)\n",
        "\n",
        "print(\"-------------------------------------Display 10 longest sentences--------------------------------------\")\n",
        "sortedTableLong.show(10)\n",
        "\n",
        "print (\"------------------------------------Display 10 shortest sentences--------------------------------------\")\n",
        "\n",
        "sortedTableLong =t1.sort('Length',descending=False)\n",
        "sortedTableLong.show(10)\n"
      ],
      "execution_count": null,
      "outputs": [
        {
          "output_type": "stream",
          "text": [
            "/usr/local/lib/python3.6/dist-packages/datascience/tables.py:17: MatplotlibDeprecationWarning: The 'warn' parameter of use() is deprecated since Matplotlib 3.1 and will be removed in 3.3.  If any parameter follows 'warn', they should be pass as keyword, not positionally.\n",
            "  matplotlib.use('agg', warn=False)\n",
            "/usr/local/lib/python3.6/dist-packages/datascience/util.py:10: MatplotlibDeprecationWarning: The 'warn' parameter of use() is deprecated since Matplotlib 3.1 and will be removed in 3.3.  If any parameter follows 'warn', they should be pass as keyword, not positionally.\n",
            "  matplotlib.use('agg', warn=False)\n"
          ],
          "name": "stderr"
        },
        {
          "output_type": "stream",
          "text": [
            "-------------------------------------Display 10 longest sentences--------------------------------------\n"
          ],
          "name": "stdout"
        },
        {
          "output_type": "stream",
          "text": [
            "/usr/local/lib/python3.6/dist-packages/datascience/tables.py:483: VisibleDeprecationWarning: Creating an ndarray from ragged nested sequences (which is a list-or-tuple of lists-or-tuples-or ndarrays with different lengths or shapes) is deprecated. If you meant to do this, you must specify 'dtype=object' when creating the ndarray\n",
            "  values = np.array(tuple(values))\n"
          ],
          "name": "stderr"
        },
        {
          "output_type": "display_data",
          "data": {
            "text/html": [
              "<table border=\"1\" class=\"dataframe\">\n",
              "    <thead>\n",
              "        <tr>\n",
              "            <th>Sentence</th> <th>Length</th>\n",
              "        </tr>\n",
              "    </thead>\n",
              "    <tbody>\n",
              "        <tr>\n",
              "            <td>And in this state she gallops night by night\n",
              "Through lov ...</td> <td>857   </td>\n",
              "        </tr>\n",
              "        <tr>\n",
              "            <td>INDEMNITY - You agree to indemnify and hold the Foundati ...</td> <td>683   </td>\n",
              "        </tr>\n",
              "        <tr>\n",
              "            <td>She is the fairies’ midwife, and she comes\n",
              "In shape no b ...</td> <td>649   </td>\n",
              "        </tr>\n",
              "        <tr>\n",
              "            <td>Or, if I live, is it not very like,\n",
              "The horrible conceit ...</td> <td>550   </td>\n",
              "        </tr>\n",
              "        <tr>\n",
              "            <td>The following sentence, with active links to, or other\n",
              "i ...</td> <td>533   </td>\n",
              "        </tr>\n",
              "        <tr>\n",
              "            <td>Day, night, hour, ride, time, work, play,\n",
              "Alone, in comp ...</td> <td>508   </td>\n",
              "        </tr>\n",
              "        <tr>\n",
              "            <td>I do remember an apothecary,—\n",
              "And hereabouts he dwells,— ...</td> <td>493   </td>\n",
              "        </tr>\n",
              "        <tr>\n",
              "            <td>START: FULL LICENSE\n",
              "\n",
              "THE FULL PROJECT GUTENBERG LICENSE\n",
              " ...</td> <td>471   </td>\n",
              "        </tr>\n",
              "        <tr>\n",
              "            <td>However, if you provide access\n",
              "to or distribute copies o ...</td> <td>465   </td>\n",
              "        </tr>\n",
              "        <tr>\n",
              "            <td>[_Exeunt._]\n",
              "\n",
              "\n",
              "End of the Project Gutenberg EBook of Rome ...</td> <td>436   </td>\n",
              "        </tr>\n",
              "    </tbody>\n",
              "</table>\n",
              "<p>... (3159 rows omitted)</p>"
            ],
            "text/plain": [
              "<IPython.core.display.HTML object>"
            ]
          },
          "metadata": {
            "tags": []
          }
        },
        {
          "output_type": "stream",
          "text": [
            "------------------------------------Display 10 shortest sentences--------------------------------------\n"
          ],
          "name": "stdout"
        },
        {
          "output_type": "display_data",
          "data": {
            "text/html": [
              "<table border=\"1\" class=\"dataframe\">\n",
              "    <thead>\n",
              "        <tr>\n",
              "            <th>Sentence</th> <th>Length</th>\n",
              "        </tr>\n",
              "    </thead>\n",
              "    <tbody>\n",
              "        <tr>\n",
              "            <td>No.     </td> <td>3     </td>\n",
              "        </tr>\n",
              "        <tr>\n",
              "            <td>Up.     </td> <td>3     </td>\n",
              "        </tr>\n",
              "        <tr>\n",
              "            <td>No.     </td> <td>3     </td>\n",
              "        </tr>\n",
              "        <tr>\n",
              "            <td>Go.     </td> <td>3     </td>\n",
              "        </tr>\n",
              "        <tr>\n",
              "            <td>Ha!     </td> <td>3     </td>\n",
              "        </tr>\n",
              "        <tr>\n",
              "            <td>No.     </td> <td>3     </td>\n",
              "        </tr>\n",
              "        <tr>\n",
              "            <td>How?    </td> <td>4     </td>\n",
              "        </tr>\n",
              "        <tr>\n",
              "            <td>Out.    </td> <td>4     </td>\n",
              "        </tr>\n",
              "        <tr>\n",
              "            <td>Tut!    </td> <td>4     </td>\n",
              "        </tr>\n",
              "        <tr>\n",
              "            <td>1.B.    </td> <td>4     </td>\n",
              "        </tr>\n",
              "    </tbody>\n",
              "</table>\n",
              "<p>... (3159 rows omitted)</p>"
            ],
            "text/plain": [
              "<IPython.core.display.HTML object>"
            ]
          },
          "metadata": {
            "tags": []
          }
        }
      ]
    },
    {
      "cell_type": "code",
      "metadata": {
        "colab": {
          "base_uri": "https://localhost:8080/",
          "height": 622
        },
        "id": "iURc0TPmfB7H",
        "outputId": "0304fc47-12da-4950-e452-e37b7d29b250"
      },
      "source": [
        "list_polarity=[]\n",
        "for s in blobTotal.sentences:\n",
        "  list_polarity.append(s.polarity)\n",
        "  \n",
        "t1=Table().with_column('Sentence',blobTotal.sentences,'Polarity',list_polarity)\n",
        "\n",
        "t2=t1.where('Polarity', are.above(0) )\n",
        "t3=t1.where('Polarity', are.below(0) )\n",
        "t4=t1.where('Polarity', are.equal_to(0) )\n",
        "\n",
        "print(\"Total Number of Sentences in the Text=          \", t1.num_rows)\n",
        "print(\"Total Number of Positive Sentences in the Text= \",t2.num_rows)\n",
        "print(\"Total Number of Negative Sentences in the Text= \",t3.num_rows)\n",
        "print(\"Total Number of Neutral Sentences in the Text=  \",t4.num_rows)\n",
        "print(\"Total Sum of Positive+Negative+Neutral Sentences in the text=  \",t2.num_rows+t3.num_rows+t4.num_rows)\n",
        "\n",
        "print(\"------------------------------------2. Display the top-5 sentences with highest polarity-------------------------------\")\n",
        "sortedTableLong =t1.sort('Polarity',descending=True)\n",
        "sortedTableLong.show(5)\n",
        "\n",
        "print(\"------------------------------------3. Display the top-5 sentences with Lowest polarity-------------------------------\")\n",
        "sortedTableLong =t1.sort('Polarity',descending=False)\n",
        "sortedTableLong.show(5)"
      ],
      "execution_count": null,
      "outputs": [
        {
          "output_type": "stream",
          "text": [
            "Total Number of Sentences in the Text=           3169\n",
            "Total Number of Positive Sentences in the Text=  666\n",
            "Total Number of Negative Sentences in the Text=  279\n",
            "Total Number of Neutral Sentences in the Text=   2224\n",
            "Total Sum of Positive+Negative+Neutral Sentences in the text=   3169\n",
            "------------------------------------2. Display the top-5 sentences with highest polarity-------------------------------\n"
          ],
          "name": "stdout"
        },
        {
          "output_type": "stream",
          "text": [
            "/usr/local/lib/python3.6/dist-packages/datascience/tables.py:483: VisibleDeprecationWarning: Creating an ndarray from ragged nested sequences (which is a list-or-tuple of lists-or-tuples-or ndarrays with different lengths or shapes) is deprecated. If you meant to do this, you must specify 'dtype=object' when creating the ndarray\n",
            "  values = np.array(tuple(values))\n"
          ],
          "name": "stderr"
        },
        {
          "output_type": "display_data",
          "data": {
            "text/html": [
              "<table border=\"1\" class=\"dataframe\">\n",
              "    <thead>\n",
              "        <tr>\n",
              "            <th>Sentence</th> <th>Polarity</th>\n",
              "        </tr>\n",
              "    </thead>\n",
              "    <tbody>\n",
              "        <tr>\n",
              "            <td>Ay, those attires are best.                                 </td> <td>1       </td>\n",
              "        </tr>\n",
              "        <tr>\n",
              "            <td>Happily met, my lady and my wife!                           </td> <td>1       </td>\n",
              "        </tr>\n",
              "        <tr>\n",
              "            <td>Beautiful tyrant, fiend angelical,\n",
              "Dove-feather’d raven, ...</td> <td>1       </td>\n",
              "        </tr>\n",
              "        <tr>\n",
              "            <td>O Tybalt, Tybalt, the best friend I had.                    </td> <td>1       </td>\n",
              "        </tr>\n",
              "        <tr>\n",
              "            <td>I thought all for the best.                                 </td> <td>1       </td>\n",
              "        </tr>\n",
              "    </tbody>\n",
              "</table>\n",
              "<p>... (3164 rows omitted)</p>"
            ],
            "text/plain": [
              "<IPython.core.display.HTML object>"
            ]
          },
          "metadata": {
            "tags": []
          }
        },
        {
          "output_type": "stream",
          "text": [
            "------------------------------------3. Display the top-5 sentences with Lowest polarity-------------------------------\n"
          ],
          "name": "stdout"
        },
        {
          "output_type": "display_data",
          "data": {
            "text/html": [
              "<table border=\"1\" class=\"dataframe\">\n",
              "    <thead>\n",
              "        <tr>\n",
              "            <th>Sentence</th> <th>Polarity</th>\n",
              "        </tr>\n",
              "    </thead>\n",
              "    <tbody>\n",
              "        <tr>\n",
              "            <td>Yea, is the worst well?                                     </td> <td>-1      </td>\n",
              "        </tr>\n",
              "        <tr>\n",
              "            <td>There’s a fearful point!                                    </td> <td>-1      </td>\n",
              "        </tr>\n",
              "        <tr>\n",
              "            <td>Romeo, come forth; come forth, thou fearful man.            </td> <td>-0.9    </td>\n",
              "        </tr>\n",
              "        <tr>\n",
              "            <td>Despis’d, distressed, hated, martyr’d, kill’d.              </td> <td>-0.9    </td>\n",
              "        </tr>\n",
              "        <tr>\n",
              "            <td>I could not send it,—here it is again,—\n",
              "Nor get a messen ...</td> <td>-0.9    </td>\n",
              "        </tr>\n",
              "    </tbody>\n",
              "</table>\n",
              "<p>... (3164 rows omitted)</p>"
            ],
            "text/plain": [
              "<IPython.core.display.HTML object>"
            ]
          },
          "metadata": {
            "tags": []
          }
        }
      ]
    },
    {
      "cell_type": "code",
      "metadata": {
        "colab": {
          "base_uri": "https://localhost:8080/"
        },
        "id": "O_mISrzKqLcg",
        "outputId": "d29da28d-ccba-41e7-cb29-1f7f11b850d3"
      },
      "source": [
        "t1=Table().with_column('Sentence',blobTotal.sentences,'Length',list_length)\n",
        "sortedTableLong =t1.sort('Length',descending=True)\n",
        "f5= sortedTableLong.take[:2]\n",
        "\n",
        "\n",
        "top_text= f5.column('Sentence')\n",
        "ko_blob= TextBlob(str(list(top_text[0:1])))\n",
        "korean_text=ko_blob.translate(to=\"ko\")\n",
        "\n",
        "print (\"English Sentence=\",*top_text[0:1])\n",
        "print(\"Korean Sentence=\",korean_text)\n",
        "######################################\n",
        "top_text= f5.column('Sentence')\n",
        "ko_blob= TextBlob(str(list(top_text[1:])))\n",
        "korean_text=ko_blob.translate(to=\"ko\")\n",
        "\n",
        "print (\"English Sentence=\",*top_text[1:])\n",
        "print(\"Korean Sentence=\",korean_text)"
      ],
      "execution_count": null,
      "outputs": [
        {
          "output_type": "stream",
          "text": [
            "English Sentence= And in this state she gallops night by night\n",
            "Through lovers’ brains, and then they dream of love;\n",
            "O’er courtiers’ knees, that dream on curtsies straight;\n",
            "O’er lawyers’ fingers, who straight dream on fees;\n",
            "O’er ladies’ lips, who straight on kisses dream,\n",
            "Which oft the angry Mab with blisters plagues,\n",
            "Because their breaths with sweetmeats tainted are:\n",
            "Sometime she gallops o’er a courtier’s nose,\n",
            "And then dreams he of smelling out a suit;\n",
            "And sometime comes she with a tithe-pig’s tail,\n",
            "Tickling a parson’s nose as a lies asleep,\n",
            "Then dreams he of another benefice:\n",
            "Sometime she driveth o’er a soldier’s neck,\n",
            "And then dreams he of cutting foreign throats,\n",
            "Of breaches, ambuscados, Spanish blades,\n",
            "Of healths five fathom deep; and then anon\n",
            "Drums in his ear, at which he starts and wakes;\n",
            "And, being thus frighted, swears a prayer or two,\n",
            "And sleeps again.\n",
            "Korean Sentence= [문장 ( \"이 상태에서 그녀는 밤마다 질주합니다.\n",
            "연인의 두뇌를 통해 사랑을 꿈꿉니다\n",
            "구애 자들의 무릎, 그 꿈은 똑바로 웅크 리고 있습니다.\n",
            "수수료를 꿈꾸는 O’er 변호사의 손가락;\n",
            "꿈에 똑바로 키스하는 숙녀의 입술,\n",
            "화난 Mab에게 물집이 생기면\n",
            "스위트 미트가 오염 된 호흡은 다음과 같습니다.\n",
            "언젠가 그녀는 궁중의 코를 질주하고\n",
            "그리고 그가 양복 냄새를 맡는 꿈을 꾸었습니다.\n",
            "언젠가 그녀는 십일조 돼지 꼬리를 가지고 오면\n",
            "잠든 거짓말처럼 파슨의 코를 간지럽 히고\n",
            "그런 다음 그는 또 다른 이점을 꿈꿉니다.\n",
            "언젠가 그녀는 군인의 목을 몰아 내고\n",
            "그리고 그가 이물질을 자르는 꿈을 꾸고\n",
            "침해, ambuscados, 스페인 칼날,\n",
            "건강의 다섯 가지 깊이; 그리고 다음엔\n",
            "그가 시작하고 깨어나는 그의 귀에 드럼이 있습니다.\n",
            "그래서 두려워서 한두 번의기도를 맹세합니다.\n",
            "그리고 또 자. \")]\n",
            "English Sentence= INDEMNITY - You agree to indemnify and hold the Foundation, the\n",
            "trademark owner, any agent or employee of the Foundation, anyone\n",
            "providing copies of Project Gutenberg-tm electronic works in\n",
            "accordance with this agreement, and any volunteers associated with the\n",
            "production, promotion and distribution of Project Gutenberg-tm\n",
            "electronic works, harmless from all liability, costs and expenses,\n",
            "including legal fees, that arise directly or indirectly from any of\n",
            "the following which you do or cause to occur: (a) distribution of this\n",
            "or any Project Gutenberg-tm work, (b) alteration, modification, or\n",
            "additions or deletions to any Project Gutenberg-tm work, and (c) any\n",
            "Defect you cause.\n",
            "Korean Sentence= [문장 ( \"면책-귀하는 재단을 면책하고 보유하는 것에 동의합니다.\n",
            "상표 소유자, 재단의 대리인 또는 직원, 누구나\n",
            "Project Gutenberg-tm 전자 저작물 사본 제공\n",
            "이 계약 및 관련 자원 봉사자에 따라\n",
            "Project Gutenberg-tm의 생산, 홍보 및 배포\n",
            "모든 책임, 비용 및 비용으로부터 무해한 전자 작업,\n",
            "다음 중 하나에서 직접 또는 간접적으로 발생하는 법적 수수료 포함\n",
            "귀하가 수행하거나 발생하게하는 다음 사항 : (a)이 배포\n",
            "또는 Project Gutenberg-tm 작업, (b) 변경, 수정 또는\n",
            "Project Gutenberg-tm 작업에 대한 추가 또는 삭제 및 (c)\n",
            "원인이되는 결함. \")]\n"
          ],
          "name": "stdout"
        },
        {
          "output_type": "stream",
          "text": [
            "/usr/local/lib/python3.6/dist-packages/datascience/tables.py:483: VisibleDeprecationWarning: Creating an ndarray from ragged nested sequences (which is a list-or-tuple of lists-or-tuples-or ndarrays with different lengths or shapes) is deprecated. If you meant to do this, you must specify 'dtype=object' when creating the ndarray\n",
            "  values = np.array(tuple(values))\n"
          ],
          "name": "stderr"
        }
      ]
    },
    {
      "cell_type": "code",
      "metadata": {
        "colab": {
          "base_uri": "https://localhost:8080/",
          "height": 476
        },
        "id": "cDTvDa9FbUmZ",
        "outputId": "acec8127-f03b-40bf-b5e6-b846e90fa9ea"
      },
      "source": [
        "list_polarity=[]\n",
        "for s in blobTotal.sentences:\n",
        "  list_polarity.append(s.polarity)\n",
        "  \n",
        "t1=Table().with_column('Sentence',blobTotal.sentences,'Polarity',list_polarity)\n",
        "sortedTableLong =t2.sort('Polarity',descending=True)\n",
        "\n",
        "xx=TextBlob(str(sortedTableLong))\n",
        "list_polarity2=[]\n",
        "list_ng=[]\n",
        "\n",
        " \n",
        "countpositivegrams=0\n",
        "for l in blobTotal.ngrams(n=5):\n",
        "  lstring=str(l)\n",
        "  lblob=TextBlob(lstring)\n",
        "  if lblob.polarity >=0:\n",
        "    list_polarity2.append(lblob.polarity)\n",
        "    list_ng.append(lblob)\n",
        "    countpositivegrams  +=1\n",
        "\n",
        "tng=Table().with_column('nGrams',list_ng,'Polarity',list_polarity2)\n",
        "sortedTableLong =tng.sort('Polarity',descending=True)\n",
        "sortedTableLong.show(10)\n",
        "print()\n",
        "print(\"total positive ngrams=\",countpositivegrams)\n"
      ],
      "execution_count": null,
      "outputs": [
        {
          "output_type": "stream",
          "text": [
            "/usr/local/lib/python3.6/dist-packages/datascience/tables.py:483: VisibleDeprecationWarning: Creating an ndarray from ragged nested sequences (which is a list-or-tuple of lists-or-tuples-or ndarrays with different lengths or shapes) is deprecated. If you meant to do this, you must specify 'dtype=object' when creating the ndarray\n",
            "  values = np.array(tuple(values))\n"
          ],
          "name": "stderr"
        },
        {
          "output_type": "display_data",
          "data": {
            "text/html": [
              "<table border=\"1\" class=\"dataframe\">\n",
              "    <thead>\n",
              "        <tr>\n",
              "            <th>nGrams</th> <th>Polarity</th>\n",
              "        </tr>\n",
              "    </thead>\n",
              "    <tbody>\n",
              "        <tr>\n",
              "            <td>['LAWRENCE', 'I', 'am', 'the', 'greatest']</td> <td>1       </td>\n",
              "        </tr>\n",
              "        <tr>\n",
              "            <td>['best', 'array', 'bear', 'her', 'to']    </td> <td>1       </td>\n",
              "        </tr>\n",
              "        <tr>\n",
              "            <td>['her', 'best', 'array', 'bear', 'her']   </td> <td>1       </td>\n",
              "        </tr>\n",
              "        <tr>\n",
              "            <td>['in', 'her', 'best', 'array', 'bear']    </td> <td>1       </td>\n",
              "        </tr>\n",
              "        <tr>\n",
              "            <td>['And', 'in', 'her', 'best', 'array']     </td> <td>1       </td>\n",
              "        </tr>\n",
              "        <tr>\n",
              "            <td>['is', 'And', 'in', 'her', 'best']        </td> <td>1       </td>\n",
              "        </tr>\n",
              "        <tr>\n",
              "            <td>['But', 'she', '’', 's', 'best']          </td> <td>1       </td>\n",
              "        </tr>\n",
              "        <tr>\n",
              "            <td>['those', 'attires', 'are', 'best', 'But']</td> <td>1       </td>\n",
              "        </tr>\n",
              "        <tr>\n",
              "            <td>['Ay', 'those', 'attires', 'are', 'best'] </td> <td>1       </td>\n",
              "        </tr>\n",
              "        <tr>\n",
              "            <td>['best', 'robes', 'uncover', '’', 'd']    </td> <td>1       </td>\n",
              "        </tr>\n",
              "    </tbody>\n",
              "</table>\n",
              "<p>... (28446 rows omitted)</p>"
            ],
            "text/plain": [
              "<IPython.core.display.HTML object>"
            ]
          },
          "metadata": {
            "tags": []
          }
        },
        {
          "output_type": "stream",
          "text": [
            "\n",
            "total positive ngrams= 28456\n"
          ],
          "name": "stdout"
        }
      ]
    },
    {
      "cell_type": "code",
      "metadata": {
        "id": "t_2bHy0hrios"
      },
      "source": [
        "def estimate_pi(terms):\n",
        "    result = 0.0\n",
        "    for n in range(terms):\n",
        "        result += (-1.0)**n/(2.0*n+1.0)\n",
        "    return 4*result"
      ],
      "execution_count": null,
      "outputs": []
    },
    {
      "cell_type": "code",
      "metadata": {
        "colab": {
          "base_uri": "https://localhost:8080/"
        },
        "id": "qKH4jwhbrlfs",
        "outputId": "3b3e0b33-5252-4c8d-c2aa-fafa42e71c7c"
      },
      "source": [
        "estimate_pi(10000)"
      ],
      "execution_count": null,
      "outputs": [
        {
          "output_type": "execute_result",
          "data": {
            "text/plain": [
              "3.1414926535900345"
            ]
          },
          "metadata": {
            "tags": []
          },
          "execution_count": 5
        }
      ]
    },
    {
      "cell_type": "markdown",
      "metadata": {
        "id": "d5ihcnKF2gI_"
      },
      "source": [
        "# Problem#1\n",
        "Bubble Chart for 3-dimensional data\n",
        "Read the dataset ‘country_profile_variables.csv’ which contains data about the 212 countries. This\n",
        "dataset was downloaded from UN’s (United Nations) website."
      ]
    },
    {
      "cell_type": "code",
      "metadata": {
        "id": "j4SI422G9yEU",
        "colab": {
          "resources": {
            "http://localhost:8080/nbextensions/google.colab/files.js": {
              "data": "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",
              "ok": true,
              "headers": [
                [
                  "content-type",
                  "application/javascript"
                ]
              ],
              "status": 200,
              "status_text": ""
            }
          },
          "base_uri": "https://localhost:8080/",
          "height": 73
        },
        "outputId": "4e00f523-b725-4e93-9905-f19214d4556e"
      },
      "source": [
        "from google.colab import files\n",
        "uploaded = files.upload()"
      ],
      "execution_count": null,
      "outputs": [
        {
          "output_type": "display_data",
          "data": {
            "text/html": [
              "\n",
              "     <input type=\"file\" id=\"files-d4dffd94-b5eb-42cb-b89b-c609a7463090\" name=\"files[]\" multiple disabled\n",
              "        style=\"border:none\" />\n",
              "     <output id=\"result-d4dffd94-b5eb-42cb-b89b-c609a7463090\">\n",
              "      Upload widget is only available when the cell has been executed in the\n",
              "      current browser session. Please rerun this cell to enable.\n",
              "      </output>\n",
              "      <script src=\"/nbextensions/google.colab/files.js\"></script> "
            ],
            "text/plain": [
              "<IPython.core.display.HTML object>"
            ]
          },
          "metadata": {
            "tags": []
          }
        },
        {
          "output_type": "stream",
          "text": [
            "Saving country_profile_variables.csv to country_profile_variables.csv\n"
          ],
          "name": "stdout"
        }
      ]
    },
    {
      "cell_type": "markdown",
      "metadata": {
        "id": "BgojKhjD2spn"
      },
      "source": [
        "1.1 Compute the difference between the life expectancy of males and females for all the countries.\n",
        "Display the top-10 countries where is the difference of life expectancy between males and females\n",
        "is the highest. Display the difference of life expectancy between males and females in the ‘United\n",
        "State of America’.\n"
      ]
    },
    {
      "cell_type": "code",
      "metadata": {
        "id": "3LnijX_3jWqH",
        "colab": {
          "base_uri": "https://localhost:8080/"
        },
        "outputId": "b672142d-a915-4e44-e478-10fc21590101"
      },
      "source": [
        "df_pop = pd.read_csv('country_profile_variables.csv')\n",
        "df_pop['Life Exp Diff']= df_pop['Life Exp Female']-df_pop['Life Exp Male']\n",
        "df_pop.sort_values(by=['Life Exp Diff'],inplace=True, ascending=False)\n",
        "\n",
        "print('Life Expectancy difference-Top 10 Countries: \\n', df_pop[['Country', 'Life Exp Female','Life Exp Male','Life Exp Diff']].head(10))\n",
        "select_country = df_pop.loc[df_pop['Country'] == 'United States of America']\n",
        "print('Life Expectancy difference in USA: \\n',select_country[['Country', 'Life Exp Female','Life Exp Male','Life Exp Diff']])\n"
      ],
      "execution_count": null,
      "outputs": [
        {
          "output_type": "stream",
          "text": [
            "Life Expectancy difference-Top 10 Countries: \n",
            "                   Country  Life Exp Female  Life Exp Male  Life Exp Diff\n",
            "182  Syrian Arab Republic             76.3           64.4           11.9\n",
            "154    Russian Federation             75.9           64.7           11.2\n",
            "16                Belarus             77.7           66.5           11.2\n",
            "107             Lithuania             79.3           68.5           10.8\n",
            "102                Latvia             78.7           68.8            9.9\n",
            "195               Ukraine             76.0           66.1            9.9\n",
            "141                 Palau             77.8           68.1            9.7\n",
            "96             Kazakhstan             73.9           64.3            9.6\n",
            "205              Viet Nam             80.3           70.7            9.6\n",
            "60                Estonia             81.2           71.8            9.4\n",
            "Life Expectancy difference in USA: \n",
            "                       Country  Life Exp Female  Life Exp Male  Life Exp Diff\n",
            "199  United States of America             81.2           76.5            4.7\n"
          ],
          "name": "stdout"
        }
      ]
    },
    {
      "cell_type": "markdown",
      "metadata": {
        "id": "NMFOcDcA3uW6"
      },
      "source": [
        "1.2 Compute the “average life expectancy” of males and females for all the countries. We will use this\n",
        "variable in the next 2 problems (1.3 + 1.4).\n",
        "1.3 Create 2 scatter bubble charts between GDP and “average life expectancy” for all the countries in\n",
        "the dataset.\n",
        "• In the first chart the size of the bubble should be proportional to the population of the country.\n",
        "• In the second chart the size of the bubble should be proportional to the surface area of the\n",
        "country.\n"
      ]
    },
    {
      "cell_type": "code",
      "metadata": {
        "id": "Lyg-XKo33WlD",
        "colab": {
          "base_uri": "https://localhost:8080/",
          "height": 343
        },
        "outputId": "40ebb6c3-d916-4ca7-b01e-852134012fa7"
      },
      "source": [
        "df_pop.head(10)"
      ],
      "execution_count": null,
      "outputs": [
        {
          "output_type": "execute_result",
          "data": {
            "text/html": [
              "<div>\n",
              "<style scoped>\n",
              "    .dataframe tbody tr th:only-of-type {\n",
              "        vertical-align: middle;\n",
              "    }\n",
              "\n",
              "    .dataframe tbody tr th {\n",
              "        vertical-align: top;\n",
              "    }\n",
              "\n",
              "    .dataframe thead th {\n",
              "        text-align: right;\n",
              "    }\n",
              "</style>\n",
              "<table border=\"1\" class=\"dataframe\">\n",
              "  <thead>\n",
              "    <tr style=\"text-align: right;\">\n",
              "      <th></th>\n",
              "      <th>Unnamed: 0</th>\n",
              "      <th>Country</th>\n",
              "      <th>Surface area (km2)</th>\n",
              "      <th>Population 1,000  (2017)</th>\n",
              "      <th>GDP (M US$)</th>\n",
              "      <th>Life Exp Female</th>\n",
              "      <th>Life Exp Male</th>\n",
              "      <th>Life Exp Diff</th>\n",
              "    </tr>\n",
              "  </thead>\n",
              "  <tbody>\n",
              "    <tr>\n",
              "      <th>182</th>\n",
              "      <td>183</td>\n",
              "      <td>Syrian Arab Republic</td>\n",
              "      <td>185180</td>\n",
              "      <td>18270</td>\n",
              "      <td>28393</td>\n",
              "      <td>76.3</td>\n",
              "      <td>64.4</td>\n",
              "      <td>11.9</td>\n",
              "    </tr>\n",
              "    <tr>\n",
              "      <th>154</th>\n",
              "      <td>155</td>\n",
              "      <td>Russian Federation</td>\n",
              "      <td>17098246</td>\n",
              "      <td>143990</td>\n",
              "      <td>1326016</td>\n",
              "      <td>75.9</td>\n",
              "      <td>64.7</td>\n",
              "      <td>11.2</td>\n",
              "    </tr>\n",
              "    <tr>\n",
              "      <th>16</th>\n",
              "      <td>17</td>\n",
              "      <td>Belarus</td>\n",
              "      <td>207600</td>\n",
              "      <td>9468</td>\n",
              "      <td>54609</td>\n",
              "      <td>77.7</td>\n",
              "      <td>66.5</td>\n",
              "      <td>11.2</td>\n",
              "    </tr>\n",
              "    <tr>\n",
              "      <th>107</th>\n",
              "      <td>108</td>\n",
              "      <td>Lithuania</td>\n",
              "      <td>65286</td>\n",
              "      <td>2890</td>\n",
              "      <td>41402</td>\n",
              "      <td>79.3</td>\n",
              "      <td>68.5</td>\n",
              "      <td>10.8</td>\n",
              "    </tr>\n",
              "    <tr>\n",
              "      <th>102</th>\n",
              "      <td>103</td>\n",
              "      <td>Latvia</td>\n",
              "      <td>64573</td>\n",
              "      <td>1950</td>\n",
              "      <td>27004</td>\n",
              "      <td>78.7</td>\n",
              "      <td>68.8</td>\n",
              "      <td>9.9</td>\n",
              "    </tr>\n",
              "    <tr>\n",
              "      <th>195</th>\n",
              "      <td>196</td>\n",
              "      <td>Ukraine</td>\n",
              "      <td>603500</td>\n",
              "      <td>44223</td>\n",
              "      <td>90615</td>\n",
              "      <td>76.0</td>\n",
              "      <td>66.1</td>\n",
              "      <td>9.9</td>\n",
              "    </tr>\n",
              "    <tr>\n",
              "      <th>141</th>\n",
              "      <td>142</td>\n",
              "      <td>Palau</td>\n",
              "      <td>459</td>\n",
              "      <td>22</td>\n",
              "      <td>258</td>\n",
              "      <td>77.8</td>\n",
              "      <td>68.1</td>\n",
              "      <td>9.7</td>\n",
              "    </tr>\n",
              "    <tr>\n",
              "      <th>96</th>\n",
              "      <td>97</td>\n",
              "      <td>Kazakhstan</td>\n",
              "      <td>2724902</td>\n",
              "      <td>18204</td>\n",
              "      <td>181754</td>\n",
              "      <td>73.9</td>\n",
              "      <td>64.3</td>\n",
              "      <td>9.6</td>\n",
              "    </tr>\n",
              "    <tr>\n",
              "      <th>205</th>\n",
              "      <td>206</td>\n",
              "      <td>Viet Nam</td>\n",
              "      <td>330967</td>\n",
              "      <td>95541</td>\n",
              "      <td>193241</td>\n",
              "      <td>80.3</td>\n",
              "      <td>70.7</td>\n",
              "      <td>9.6</td>\n",
              "    </tr>\n",
              "    <tr>\n",
              "      <th>60</th>\n",
              "      <td>61</td>\n",
              "      <td>Estonia</td>\n",
              "      <td>45227</td>\n",
              "      <td>1310</td>\n",
              "      <td>22460</td>\n",
              "      <td>81.2</td>\n",
              "      <td>71.8</td>\n",
              "      <td>9.4</td>\n",
              "    </tr>\n",
              "  </tbody>\n",
              "</table>\n",
              "</div>"
            ],
            "text/plain": [
              "     Unnamed: 0               Country  ...  Life Exp Male  Life Exp Diff\n",
              "182         183  Syrian Arab Republic  ...           64.4           11.9\n",
              "154         155    Russian Federation  ...           64.7           11.2\n",
              "16           17               Belarus  ...           66.5           11.2\n",
              "107         108             Lithuania  ...           68.5           10.8\n",
              "102         103                Latvia  ...           68.8            9.9\n",
              "195         196               Ukraine  ...           66.1            9.9\n",
              "141         142                 Palau  ...           68.1            9.7\n",
              "96           97            Kazakhstan  ...           64.3            9.6\n",
              "205         206              Viet Nam  ...           70.7            9.6\n",
              "60           61               Estonia  ...           71.8            9.4\n",
              "\n",
              "[10 rows x 8 columns]"
            ]
          },
          "metadata": {
            "tags": []
          },
          "execution_count": 61
        }
      ]
    },
    {
      "cell_type": "code",
      "metadata": {
        "id": "Xn6bdKU5uCLY",
        "colab": {
          "base_uri": "https://localhost:8080/",
          "height": 329
        },
        "outputId": "c5f14bf3-4966-47ec-fa85-171d03542018"
      },
      "source": [
        "df_pop['Avg Life Exp']= (df_pop['Life Exp Female'] + df_pop['Life Exp Male'])/2\n",
        "df_pop.head(n=3)\n",
        "df_pop.rename(columns = {'Population 1,000  (2017)':'Population2017'}, inplace = True) \n",
        "df_pop.rename(columns = {'GDP (M US$)':'GDP'}, inplace = True) \n",
        "df_pop['S_pop']= (df_pop['Population2017'] / 1000)\n",
        "df_pop['S_sa']= (df_pop['Surface area (km2)'] / 10000)\n",
        "df_pop['C_col']= df_pop.index.values\n",
        "df_pop = df_pop.query(\"(S_sa >= 0)\")\n",
        "df_pop = df_pop.query(\"(GDP >= 0)\")\n",
        "\n",
        "plt.figure()\n",
        "plt.subplots(figsize=(14,4))\n",
        "plt.subplot(1,2,1)\n",
        "plt.scatter('GDP', 'Avg Life Exp',s='S_pop', c='C_col' ,alpha=1, data=df_pop)\n",
        "plt.grid()\n",
        "plt.xlabel('GDP')\n",
        "plt.ylabel('Average Life Expectancy')\n",
        "plt.title('Average Life Expectancy Weighted by Country Poulation')\n",
        "plt.subplot(1,2,2)\n",
        "plt.scatter('GDP', 'Avg Life Exp',s='S_sa', c='C_col' ,alpha=1, data=df_pop)\n",
        "\n",
        "plt.grid()\n",
        "plt.xlabel('GDP')\n",
        "plt.ylabel('Average Life Expectancy')\n",
        "plt.title('Average Life Expectancy Weighted by Country Area')\n"
      ],
      "execution_count": null,
      "outputs": [
        {
          "output_type": "execute_result",
          "data": {
            "text/plain": [
              "Text(0.5, 1.0, 'Average Life Expectancy Weighted by Country Area')"
            ]
          },
          "metadata": {
            "tags": []
          },
          "execution_count": 96
        },
        {
          "output_type": "display_data",
          "data": {
            "text/plain": [
              "<Figure size 432x288 with 0 Axes>"
            ]
          },
          "metadata": {
            "tags": []
          }
        },
        {
          "output_type": "display_data",
          "data": {
            "image/png": "[encoded data removed]",
            "text/plain": [
              "<Figure size 1008x288 with 2 Axes>"
            ]
          },
          "metadata": {
            "tags": [],
            "needs_background": "light"
          }
        }
      ]
    },
    {
      "cell_type": "markdown",
      "metadata": {
        "id": "4Kr0wb8U4F8n"
      },
      "source": [
        "1.4 The plots created in the previous problem (1.3) have bubbles squeezed on the left side of the\n",
        "graph. Create 2 more scatter bubble charts between ‘log (natural log) value of GDP’ and “average\n",
        "life expectancy” for all the countries in the dataset. This will allow the bubbles to spread out all over\n",
        "the graph.\n",
        "• In the first chart the size of the bubble should be proportional to the population of the country.\n",
        "• In the second chart the size of the bubble should be proportional to the surface area of the\n",
        "country.\n"
      ]
    },
    {
      "cell_type": "code",
      "metadata": {
        "id": "8N_FLnbS6NT7",
        "colab": {
          "base_uri": "https://localhost:8080/",
          "height": 312
        },
        "outputId": "923341a0-6ea6-45ba-d9d8-e359fc97e267"
      },
      "source": [
        "df_pop['log_gdp']= np.log(df_pop['GDP'])\n",
        "# df_pop['log_area']= np.log(df_pop['Surface area (km2)'])\n",
        "df_pop\n",
        "\n",
        "plt.subplots(figsize=(14,4))\n",
        "plt.subplot(1,2,1)\n",
        "plt.scatter('log_gdp', 'Avg Life Exp',s='S_pop', c='C_col' ,alpha=.8, data=df_pop)\n",
        "plt.grid()\n",
        "plt.xlabel('Log of GDP')\n",
        "plt.ylabel('Average Life Expectancy')\n",
        "plt.title('Average Life Expectancy Weighted by Country Poulation')\n",
        "plt.subplot(1,2,2)\n",
        "plt.scatter('log_gdp', 'Avg Life Exp',s='S_sa', c='C_col' ,alpha=.8, data=df_pop)\n",
        "plt.grid()\n",
        "plt.xlabel('Log of GDP')\n",
        "plt.ylabel('Average Life Expectancy')\n",
        "plt.title('Average Life Expectancy Weighted by Country Area')\n"
      ],
      "execution_count": null,
      "outputs": [
        {
          "output_type": "execute_result",
          "data": {
            "text/plain": [
              "Text(0.5, 1.0, 'Average Life Expectancy Weighted by Country Area')"
            ]
          },
          "metadata": {
            "tags": []
          },
          "execution_count": 66
        },
        {
          "output_type": "display_data",
          "data": {
            "image/png": "[encoded data removed]",
            "text/plain": [
              "<Figure size 1008x288 with 2 Axes>"
            ]
          },
          "metadata": {
            "tags": [],
            "needs_background": "light"
          }
        }
      ]
    },
    {
      "cell_type": "markdown",
      "metadata": {
        "id": "oxIIvfZQ4M6M"
      },
      "source": [
        "# Problem #2\n",
        "Read the breast cancer dataset (breast-cancer.csv). This dataset contains medical metrics about 683\n",
        "patients.\n"
      ]
    },
    {
      "cell_type": "code",
      "metadata": {
        "id": "b-XY-M7Q4Z7e",
        "colab": {
          "resources": {
            "http://localhost:8080/nbextensions/google.colab/files.js": {
              "data": "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",
              "ok": true,
              "headers": [
                [
                  "content-type",
                  "application/javascript"
                ]
              ],
              "status": 200,
              "status_text": ""
            }
          },
          "base_uri": "https://localhost:8080/",
          "height": 73
        },
        "outputId": "b69088b8-e14d-45f4-9c48-0dec7da28691"
      },
      "source": [
        "from google.colab import files\n",
        "uploaded = files.upload()"
      ],
      "execution_count": null,
      "outputs": [
        {
          "output_type": "display_data",
          "data": {
            "text/html": [
              "\n",
              "     <input type=\"file\" id=\"files-4716e4b1-6be2-4793-8a5d-25186e845e36\" name=\"files[]\" multiple disabled\n",
              "        style=\"border:none\" />\n",
              "     <output id=\"result-4716e4b1-6be2-4793-8a5d-25186e845e36\">\n",
              "      Upload widget is only available when the cell has been executed in the\n",
              "      current browser session. Please rerun this cell to enable.\n",
              "      </output>\n",
              "      <script src=\"/nbextensions/google.colab/files.js\"></script> "
            ],
            "text/plain": [
              "<IPython.core.display.HTML object>"
            ]
          },
          "metadata": {
            "tags": []
          }
        },
        {
          "output_type": "stream",
          "text": [
            "Saving breast-cancer.csv to breast-cancer.csv\n"
          ],
          "name": "stdout"
        }
      ]
    },
    {
      "cell_type": "code",
      "metadata": {
        "id": "qqH7OMdM4jwG",
        "colab": {
          "base_uri": "https://localhost:8080/",
          "height": 418
        },
        "outputId": "12ba1ceb-e99d-4ee7-b0ea-f3bce3abc21a"
      },
      "source": [
        "df_cancer = pd.read_csv('breast-cancer.csv')\n",
        "df_cancer"
      ],
      "execution_count": null,
      "outputs": [
        {
          "output_type": "execute_result",
          "data": {
            "text/html": [
              "<div>\n",
              "<style scoped>\n",
              "    .dataframe tbody tr th:only-of-type {\n",
              "        vertical-align: middle;\n",
              "    }\n",
              "\n",
              "    .dataframe tbody tr th {\n",
              "        vertical-align: top;\n",
              "    }\n",
              "\n",
              "    .dataframe thead th {\n",
              "        text-align: right;\n",
              "    }\n",
              "</style>\n",
              "<table border=\"1\" class=\"dataframe\">\n",
              "  <thead>\n",
              "    <tr style=\"text-align: right;\">\n",
              "      <th></th>\n",
              "      <th>ID</th>\n",
              "      <th>Clump Thickness</th>\n",
              "      <th>Uniformity of Cell Size</th>\n",
              "      <th>Uniformity of Cell Shape</th>\n",
              "      <th>Marginal Adhesion</th>\n",
              "      <th>Single Epithelial Cell Size</th>\n",
              "      <th>Bare Nuclei</th>\n",
              "      <th>Bland Chromatin</th>\n",
              "      <th>Normal Nucleoli</th>\n",
              "      <th>Mitoses</th>\n",
              "      <th>Class</th>\n",
              "    </tr>\n",
              "  </thead>\n",
              "  <tbody>\n",
              "    <tr>\n",
              "      <th>0</th>\n",
              "      <td>1000025</td>\n",
              "      <td>5</td>\n",
              "      <td>1</td>\n",
              "      <td>1</td>\n",
              "      <td>1</td>\n",
              "      <td>2</td>\n",
              "      <td>1</td>\n",
              "      <td>3</td>\n",
              "      <td>1</td>\n",
              "      <td>1</td>\n",
              "      <td>0</td>\n",
              "    </tr>\n",
              "    <tr>\n",
              "      <th>1</th>\n",
              "      <td>1002945</td>\n",
              "      <td>5</td>\n",
              "      <td>4</td>\n",
              "      <td>4</td>\n",
              "      <td>5</td>\n",
              "      <td>7</td>\n",
              "      <td>10</td>\n",
              "      <td>3</td>\n",
              "      <td>2</td>\n",
              "      <td>1</td>\n",
              "      <td>0</td>\n",
              "    </tr>\n",
              "    <tr>\n",
              "      <th>2</th>\n",
              "      <td>1015425</td>\n",
              "      <td>3</td>\n",
              "      <td>1</td>\n",
              "      <td>1</td>\n",
              "      <td>1</td>\n",
              "      <td>2</td>\n",
              "      <td>2</td>\n",
              "      <td>3</td>\n",
              "      <td>1</td>\n",
              "      <td>1</td>\n",
              "      <td>0</td>\n",
              "    </tr>\n",
              "    <tr>\n",
              "      <th>3</th>\n",
              "      <td>1016277</td>\n",
              "      <td>6</td>\n",
              "      <td>8</td>\n",
              "      <td>8</td>\n",
              "      <td>1</td>\n",
              "      <td>3</td>\n",
              "      <td>4</td>\n",
              "      <td>3</td>\n",
              "      <td>7</td>\n",
              "      <td>1</td>\n",
              "      <td>0</td>\n",
              "    </tr>\n",
              "    <tr>\n",
              "      <th>4</th>\n",
              "      <td>1017023</td>\n",
              "      <td>4</td>\n",
              "      <td>1</td>\n",
              "      <td>1</td>\n",
              "      <td>3</td>\n",
              "      <td>2</td>\n",
              "      <td>1</td>\n",
              "      <td>3</td>\n",
              "      <td>1</td>\n",
              "      <td>1</td>\n",
              "      <td>0</td>\n",
              "    </tr>\n",
              "    <tr>\n",
              "      <th>...</th>\n",
              "      <td>...</td>\n",
              "      <td>...</td>\n",
              "      <td>...</td>\n",
              "      <td>...</td>\n",
              "      <td>...</td>\n",
              "      <td>...</td>\n",
              "      <td>...</td>\n",
              "      <td>...</td>\n",
              "      <td>...</td>\n",
              "      <td>...</td>\n",
              "      <td>...</td>\n",
              "    </tr>\n",
              "    <tr>\n",
              "      <th>678</th>\n",
              "      <td>776715</td>\n",
              "      <td>3</td>\n",
              "      <td>1</td>\n",
              "      <td>1</td>\n",
              "      <td>1</td>\n",
              "      <td>3</td>\n",
              "      <td>2</td>\n",
              "      <td>1</td>\n",
              "      <td>1</td>\n",
              "      <td>1</td>\n",
              "      <td>0</td>\n",
              "    </tr>\n",
              "    <tr>\n",
              "      <th>679</th>\n",
              "      <td>841769</td>\n",
              "      <td>2</td>\n",
              "      <td>1</td>\n",
              "      <td>1</td>\n",
              "      <td>1</td>\n",
              "      <td>2</td>\n",
              "      <td>1</td>\n",
              "      <td>1</td>\n",
              "      <td>1</td>\n",
              "      <td>1</td>\n",
              "      <td>0</td>\n",
              "    </tr>\n",
              "    <tr>\n",
              "      <th>680</th>\n",
              "      <td>888820</td>\n",
              "      <td>5</td>\n",
              "      <td>10</td>\n",
              "      <td>10</td>\n",
              "      <td>3</td>\n",
              "      <td>7</td>\n",
              "      <td>3</td>\n",
              "      <td>8</td>\n",
              "      <td>10</td>\n",
              "      <td>2</td>\n",
              "      <td>1</td>\n",
              "    </tr>\n",
              "    <tr>\n",
              "      <th>681</th>\n",
              "      <td>897471</td>\n",
              "      <td>4</td>\n",
              "      <td>8</td>\n",
              "      <td>6</td>\n",
              "      <td>4</td>\n",
              "      <td>3</td>\n",
              "      <td>4</td>\n",
              "      <td>10</td>\n",
              "      <td>6</td>\n",
              "      <td>1</td>\n",
              "      <td>1</td>\n",
              "    </tr>\n",
              "    <tr>\n",
              "      <th>682</th>\n",
              "      <td>897471</td>\n",
              "      <td>4</td>\n",
              "      <td>8</td>\n",
              "      <td>8</td>\n",
              "      <td>5</td>\n",
              "      <td>4</td>\n",
              "      <td>5</td>\n",
              "      <td>10</td>\n",
              "      <td>4</td>\n",
              "      <td>1</td>\n",
              "      <td>1</td>\n",
              "    </tr>\n",
              "  </tbody>\n",
              "</table>\n",
              "<p>683 rows × 11 columns</p>\n",
              "</div>"
            ],
            "text/plain": [
              "          ID  Clump Thickness  ...  Mitoses  Class\n",
              "0    1000025                5  ...        1      0\n",
              "1    1002945                5  ...        1      0\n",
              "2    1015425                3  ...        1      0\n",
              "3    1016277                6  ...        1      0\n",
              "4    1017023                4  ...        1      0\n",
              "..       ...              ...  ...      ...    ...\n",
              "678   776715                3  ...        1      0\n",
              "679   841769                2  ...        1      0\n",
              "680   888820                5  ...        2      1\n",
              "681   897471                4  ...        1      1\n",
              "682   897471                4  ...        1      1\n",
              "\n",
              "[683 rows x 11 columns]"
            ]
          },
          "metadata": {
            "tags": []
          },
          "execution_count": 69
        }
      ]
    },
    {
      "cell_type": "markdown",
      "metadata": {
        "id": "dVjFFDMGbiTU"
      },
      "source": [
        "# First create a scatter plot between “Bland Chromatin” (column H) and “Single Epithelial Cell Size”\n",
        "(column F) using ‘class’ (column K) to classify by color whether a patient has cancer or not. The class\n",
        "value of ‘1’ indicates cancer. Your plot will look as follows.\n"
      ]
    },
    {
      "cell_type": "code",
      "metadata": {
        "id": "IXWkCz7n43cI",
        "colab": {
          "base_uri": "https://localhost:8080/",
          "height": 295
        },
        "outputId": "6bbf1495-e68f-4743-f3f8-350d0696f199"
      },
      "source": [
        "# import pandas as pd\n",
        "# import matplotlib.pyplot as plt\n",
        "# fig,ax = plt.subplots(figsize=(10,6))\n",
        "# plt.scatter('Bland Chromatin', 'Single Epithelial Cell Size', c='Class' ,alpha=1, data=df_cancer)\n",
        "# plt.grid()\n",
        "# plt.show()\n",
        "import pandas as pd\n",
        "import matplotlib.cm as cm\n",
        "import matplotlib.pyplot as plt\n",
        "import seaborn as sns\n",
        "def scatterplot(df, x_dim, y_dim, category):\n",
        "  x = df[x_dim]\n",
        "  y = df[y_dim]\n",
        "  fig, ax = plt.subplots(figsize=(6, 4))\n",
        "  #applies the custom color map along with the color sequence\n",
        "  ax.scatter(x, y, alpha=0.70, c= df[category], cmap=cm.brg)\n",
        " \n",
        "  #adds a title and axes labels\n",
        "  ax.set_title('Cancer Incidence 1=Cancer 0= No Cancer')\n",
        "  ax.set_xlabel('Bland Chromatin')\n",
        "  ax.set_ylabel('Single Epithelial Cell Size')\n",
        " \n",
        "  #removing top and right borders\n",
        "  ax.spines['top'].set_visible(False)\n",
        "  ax.spines['right'].set_visible(False)\n",
        "  #adds major gridlines\n",
        "  ax.grid(color='grey', linestyle='-', linewidth=0.25, alpha=0.5)\n",
        "  plt.show()\n",
        "scatterplot(df_cancer, 'Bland Chromatin', 'Single Epithelial Cell Size','Class')\n"
      ],
      "execution_count": null,
      "outputs": [
        {
          "output_type": "display_data",
          "data": {
            "image/png": "[encoded data removed]",
            "text/plain": [
              "<Figure size 432x288 with 1 Axes>"
            ]
          },
          "metadata": {
            "tags": [],
            "needs_background": "light"
          }
        }
      ]
    },
    {
      "cell_type": "code",
      "metadata": {
        "id": "DSa4NAlfexoi",
        "colab": {
          "base_uri": "https://localhost:8080/",
          "height": 279
        },
        "outputId": "f976cde0-9536-49cd-f43b-352f00582d2d"
      },
      "source": [
        "fig, ax = plt.subplots(figsize=(6,4))\n",
        "sns.scatterplot(x='Bland Chromatin', y='Single Epithelial Cell Size', hue='Class', data=df_cancer) \n",
        "ax.grid(color='grey', linestyle='-', linewidth=0.25, alpha=0.5)\n",
        "plt.show()\n"
      ],
      "execution_count": null,
      "outputs": [
        {
          "output_type": "display_data",
          "data": {
            "image/png": "[encoded data removed]",
            "text/plain": [
              "<Figure size 432x288 with 1 Axes>"
            ]
          },
          "metadata": {
            "tags": [],
            "needs_background": "light"
          }
        }
      ]
    },
    {
      "cell_type": "markdown",
      "metadata": {
        "id": "eEyzOrpeb0py"
      },
      "source": [
        "# Create a bubble scatter plot (like Problem#1) where the size of the marker is proportional to the number of points at that location. Your plot should look as follows.\n"
      ]
    },
    {
      "cell_type": "code",
      "metadata": {
        "id": "zyzCOZPIxL-r",
        "colab": {
          "base_uri": "https://localhost:8080/",
          "height": 312
        },
        "outputId": "51bbbef8-e271-4323-b0bd-1705e024300e"
      },
      "source": [
        "df_cancer['C_f']= (df_cancer['Class'])\n",
        "df_c= df_cancer[['Bland Chromatin', 'Single Epithelial Cell Size','Class','C_f']]\n",
        "\n",
        "gb=df_c.groupby(['Class','C_f','Bland Chromatin','Single Epithelial Cell Size'])\n",
        "df_agg=gb.agg({'Bland Chromatin' : 'max',\n",
        "'Single Epithelial Cell Size' : 'max' ,\n",
        "'Class' : 'size',\n",
        "'C_f' : 'min'  })\n",
        "df_agg['Class'] = df_agg['Class'].multiply(10)\n",
        "\n",
        "plt.subplots(figsize=(6,4))\n",
        "plt.grid(color='grey', linestyle='-', linewidth=0.25, alpha=0.5)\n",
        "plt.scatter('Bland Chromatin', 'Single Epithelial Cell Size',s='Class', c='C_f' ,  alpha=.8, data=df_agg)\n",
        "plt.xlabel('Bland Chromatin')\n",
        "plt.ylabel('Single Epithelial Cell Size')\n",
        "plt.title('Cancer Incidence 1=Cancer 0= No Cancer')\n",
        "  "
      ],
      "execution_count": null,
      "outputs": [
        {
          "output_type": "execute_result",
          "data": {
            "text/plain": [
              "Text(0.5, 1.0, 'Cancer Incidence 1=Cancer 0= No Cancer')"
            ]
          },
          "metadata": {
            "tags": []
          },
          "execution_count": 72
        },
        {
          "output_type": "display_data",
          "data": {
            "image/png": "[encoded data removed]",
            "text/plain": [
              "<Figure size 432x288 with 1 Axes>"
            ]
          },
          "metadata": {
            "tags": [],
            "needs_background": "light"
          }
        }
      ]
    },
    {
      "cell_type": "markdown",
      "metadata": {
        "id": "bKXGNJr3cBRP"
      },
      "source": [
        "# Another way to handle this situation is to add random noise (jitter) to each data points. Therefore, when the plot is created the marker is shifted slightly from the exact position. The ‘jitter’ plot looks as follows."
      ]
    },
    {
      "cell_type": "code",
      "metadata": {
        "id": "IihTqrsAR_ON",
        "colab": {
          "base_uri": "https://localhost:8080/",
          "height": 279
        },
        "outputId": "1e763a61-8026-4b1f-f7b4-083705e7c133"
      },
      "source": [
        "plt.subplots(figsize=(7,4))\n",
        "plt.grid(color='grey', linestyle='-', linewidth=0.25, alpha=0.5)\n",
        "sns.stripplot(x='Bland Chromatin', y='Single Epithelial Cell Size', hue='Class', data=df_cancer, jitter=True, edgecolor='none')\n",
        "sns.despine()"
      ],
      "execution_count": null,
      "outputs": [
        {
          "output_type": "display_data",
          "data": {
            "image/png": "[encoded data removed]",
            "text/plain": [
              "<Figure size 504x288 with 1 Axes>"
            ]
          },
          "metadata": {
            "tags": [],
            "needs_background": "light"
          }
        }
      ]
    },
    {
      "cell_type": "markdown",
      "metadata": {
        "id": "8vXAGGnwaelQ"
      },
      "source": [
        "# Problem#3\n",
        "Generate 2 sets of univariate data\n",
        "Univariate data set#1: 1000 normally distributed data with 𝜇 = 50, 𝜎 = 10\n",
        "Univariate data set#2: 1000 normally distributed data with 𝜇 = 100, 𝜎 = 50"
      ]
    },
    {
      "cell_type": "code",
      "metadata": {
        "id": "cHoMRqfVURWF",
        "colab": {
          "base_uri": "https://localhost:8080/",
          "height": 320
        },
        "outputId": "86084f7e-944f-43b4-dc2d-885dfff9cf20"
      },
      "source": [
        "import pandas as pd\n",
        "import numpy as np\n",
        "import seaborn as sns\n",
        "import matplotlib.pyplot as plt\n",
        "\n",
        "v1 = pd.Series(np.random.normal(50, 10, 1000),  name='v1')\n",
        "v2 = pd.Series(np.random.normal(100, 50, 1000),name='v2')\n",
        "\n",
        "plt.figure(figsize=(8,5))\n",
        "plt.hist(v1,alpha=.7,bins=np.arange(-50,200,5),label='v1')\n",
        "plt.hist(v2,alpha=.7,bins=np.arange(-50,200,5),label='v2')\n",
        "plt.legend()\n",
        "plt.grid()\n"
      ],
      "execution_count": null,
      "outputs": [
        {
          "output_type": "display_data",
          "data": {
            "image/png": "[encoded data removed]",
            "text/plain": [
              "<Figure size 576x360 with 1 Axes>"
            ]
          },
          "metadata": {
            "tags": [],
            "needs_background": "light"
          }
        }
      ]
    },
    {
      "cell_type": "markdown",
      "metadata": {
        "id": "T5Kh-Y12EETR"
      },
      "source": [
        "## Create an overlay histogram of set#1 and set#2 datasetsNext create a KDE (Kernel\n",
        "Density Estimation) histogram by concatenating set#1 and set#2 datasets.# New Section"
      ]
    },
    {
      "cell_type": "code",
      "metadata": {
        "id": "uUFA29vPaleX",
        "colab": {
          "base_uri": "https://localhost:8080/",
          "height": 320
        },
        "outputId": "d1a10e18-6188-4838-e864-ee259ac800cf"
      },
      "source": [
        "plt.figure(figsize=(8,5))\n",
        "plt.grid()\n",
        "v3 = pd.concat((v1,v2))\n",
        "sns.kdeplot(v3);\n",
        "plt.hist([v1,v2], density=True, histtype='bar', stacked=True)\n",
        "plt.show()\n"
      ],
      "execution_count": null,
      "outputs": [
        {
          "output_type": "display_data",
          "data": {
            "image/png": "[encoded data removed]",
            "text/plain": [
              "<Figure size 576x360 with 1 Axes>"
            ]
          },
          "metadata": {
            "tags": [],
            "needs_background": "light"
          }
        }
      ]
    },
    {
      "cell_type": "markdown",
      "metadata": {
        "id": "rgX_LprkEjNr"
      },
      "source": [
        "# Create KDE Joint Plot\n"
      ]
    },
    {
      "cell_type": "code",
      "metadata": {
        "id": "YEGusi87arwO",
        "colab": {
          "base_uri": "https://localhost:8080/",
          "height": 511
        },
        "outputId": "87a4a555-5ee2-4050-dcc1-7957163c268c"
      },
      "source": [
        "%matplotlib inline\n",
        "import seaborn as sns\n",
        "sns.set_style=('white')\n",
        "plt.figure(figsize=(10,6))\n",
        "sns.jointplot(v1,v2,kind=\"kde\",space=0)\n",
        "plt.show(sns)\n"
      ],
      "execution_count": null,
      "outputs": [
        {
          "output_type": "stream",
          "text": [
            "/usr/local/lib/python3.6/dist-packages/seaborn/_decorators.py:43: FutureWarning: Pass the following variables as keyword args: x, y. From version 0.12, the only valid positional argument will be `data`, and passing other arguments without an explicit keyword will result in an error or misinterpretation.\n",
            "  FutureWarning\n"
          ],
          "name": "stderr"
        },
        {
          "output_type": "display_data",
          "data": {
            "text/plain": [
              "<Figure size 720x432 with 0 Axes>"
            ]
          },
          "metadata": {
            "tags": []
          }
        },
        {
          "output_type": "display_data",
          "data": {
            "image/png": "[encoded data removed]",
            "text/plain": [
              "<Figure size 432x432 with 3 Axes>"
            ]
          },
          "metadata": {
            "tags": [],
            "needs_background": "light"
          }
        }
      ]
    },
    {
      "cell_type": "markdown",
      "metadata": {
        "id": "reyybJZuJVp4"
      },
      "source": [
        "# Hex: Joint Plot"
      ]
    },
    {
      "cell_type": "code",
      "metadata": {
        "id": "8N5qaVRKJa1Z",
        "colab": {
          "base_uri": "https://localhost:8080/",
          "height": 511
        },
        "outputId": "f9a399a8-e169-4e17-d436-d274189972c3"
      },
      "source": [
        "sns.jointplot(v1,v2,kind=\"hex\",space=0)\n"
      ],
      "execution_count": null,
      "outputs": [
        {
          "output_type": "stream",
          "text": [
            "/usr/local/lib/python3.6/dist-packages/seaborn/_decorators.py:43: FutureWarning: Pass the following variables as keyword args: x, y. From version 0.12, the only valid positional argument will be `data`, and passing other arguments without an explicit keyword will result in an error or misinterpretation.\n",
            "  FutureWarning\n"
          ],
          "name": "stderr"
        },
        {
          "output_type": "execute_result",
          "data": {
            "text/plain": [
              "<seaborn.axisgrid.JointGrid at 0x7f6d3eb1b320>"
            ]
          },
          "metadata": {
            "tags": []
          },
          "execution_count": 98
        },
        {
          "output_type": "display_data",
          "data": {
            "image/png": "[encoded data removed]",
            "text/plain": [
              "<Figure size 432x432 with 3 Axes>"
            ]
          },
          "metadata": {
            "tags": [],
            "needs_background": "light"
          }
        }
      ]
    }
  ]
}