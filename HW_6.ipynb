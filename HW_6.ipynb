{
  "nbformat": 4,
  "nbformat_minor": 0,
  "metadata": {
    "colab": {
      "name": "HW#6.ipynb",
      "provenance": [],
      "collapsed_sections": [],
      "authorship_tag": "ABX9TyNBzsxz13uqXIPw/y/0JGdL",
      "include_colab_link": true
    },
    "kernelspec": {
      "name": "python3",
      "display_name": "Python 3"
    }
  },
  "cells": [
    {
      "cell_type": "markdown",
      "metadata": {
        "id": "view-in-github",
        "colab_type": "text"
      },
      "source": [
        "<a href=\"https://colab.research.google.com/github/FrancisKurian/CS501/blob/main/HW_6.ipynb\" target=\"_parent\"><img src=\"https://colab.research.google.com/assets/colab-badge.svg\" alt=\"Open In Colab\"/></a>"
      ]
    },
    {
      "cell_type": "code",
      "metadata": {
        "id": "diPA6K2kyaFg",
        "colab": {
          "resources": {
            "http://localhost:8080/nbextensions/google.colab/files.js": {
              "data": "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",
              "ok": true,
              "headers": [
                [
                  "content-type",
                  "application/javascript"
                ]
              ],
              "status": 200,
              "status_text": ""
            }
          },
          "base_uri": "https://localhost:8080/",
          "height": 73
        },
        "outputId": "8266d056-ee66-411f-9b70-246292455c4b"
      },
      "source": [
        "from google.colab import files\n",
        "uploaded = files.upload()\n",
        "#files.upload()"
      ],
      "execution_count": null,
      "outputs": [
        {
          "output_type": "display_data",
          "data": {
            "text/html": [
              "\n",
              "     <input type=\"file\" id=\"files-ef7a9fe0-6538-46c0-bc22-f4c51a95ad47\" name=\"files[]\" multiple disabled\n",
              "        style=\"border:none\" />\n",
              "     <output id=\"result-ef7a9fe0-6538-46c0-bc22-f4c51a95ad47\">\n",
              "      Upload widget is only available when the cell has been executed in the\n",
              "      current browser session. Please rerun this cell to enable.\n",
              "      </output>\n",
              "      <script src=\"/nbextensions/google.colab/files.js\"></script> "
            ],
            "text/plain": [
              "<IPython.core.display.HTML object>"
            ]
          },
          "metadata": {
            "tags": []
          }
        },
        {
          "output_type": "stream",
          "text": [
            "Saving top_movies_by_title.csv to top_movies_by_title.csv\n"
          ],
          "name": "stdout"
        }
      ]
    },
    {
      "cell_type": "code",
      "metadata": {
        "id": "gFHIQ9PXyib0",
        "colab": {
          "base_uri": "https://localhost:8080/",
          "height": 372
        },
        "outputId": "ff6b5428-2478-46c3-cf9c-ae289108b33a"
      },
      "source": [
        "from datascience import  *\n",
        "\n",
        "# 1. Read the ‘top_movies_by_title.csv’ file into a table and name it ‘table1’.\n",
        "\n",
        "table1= Table.read_table('top_movies_by_title.csv')\n",
        "table1\n",
        "\n"
      ],
      "execution_count": null,
      "outputs": [
        {
          "output_type": "execute_result",
          "data": {
            "text/html": [
              "<table border=\"1\" class=\"dataframe\">\n",
              "    <thead>\n",
              "        <tr>\n",
              "            <th>Title</th> <th>Studio</th> <th>Gross</th> <th>Gross (Adjusted)</th> <th>Year</th>\n",
              "        </tr>\n",
              "    </thead>\n",
              "    <tbody>\n",
              "        <tr>\n",
              "            <td>101 Dalmatians            </td> <td>Disney              </td> <td>144880014</td> <td>869280100       </td> <td>1961</td>\n",
              "        </tr>\n",
              "        <tr>\n",
              "            <td>2001: A Space Odyssey     </td> <td>MGM                 </td> <td>56954992 </td> <td>377027700       </td> <td>1968</td>\n",
              "        </tr>\n",
              "        <tr>\n",
              "            <td>9 to 5                    </td> <td>Fox                 </td> <td>103290500</td> <td>334062200       </td> <td>1980</td>\n",
              "        </tr>\n",
              "        <tr>\n",
              "            <td>A Star Is Born (1976)     </td> <td>Warner Bros.        </td> <td>80000000 </td> <td>326760600       </td> <td>1976</td>\n",
              "        </tr>\n",
              "        <tr>\n",
              "            <td>Air Force One             </td> <td>Sony                </td> <td>172956409</td> <td>327752300       </td> <td>1997</td>\n",
              "        </tr>\n",
              "        <tr>\n",
              "            <td>Airport                   </td> <td>Universal           </td> <td>100489151</td> <td>575168200       </td> <td>1970</td>\n",
              "        </tr>\n",
              "        <tr>\n",
              "            <td>Aladdin                   </td> <td>Buena Vista (Disney)</td> <td>217350219</td> <td>456248400       </td> <td>1992</td>\n",
              "        </tr>\n",
              "        <tr>\n",
              "            <td>Alice in Wonderland (2010)</td> <td>Buena Vista (Disney)</td> <td>334191110</td> <td>365718600       </td> <td>2010</td>\n",
              "        </tr>\n",
              "        <tr>\n",
              "            <td>American Graffiti         </td> <td>Universal           </td> <td>115000000</td> <td>571714300       </td> <td>1973</td>\n",
              "        </tr>\n",
              "        <tr>\n",
              "            <td>American Sniper           </td> <td>Warner Bros.        </td> <td>350126372</td> <td>374796000       </td> <td>2014</td>\n",
              "        </tr>\n",
              "    </tbody>\n",
              "</table>\n",
              "<p>... (190 rows omitted)</p>"
            ],
            "text/plain": [
              "Title                      | Studio               | Gross     | Gross (Adjusted) | Year\n",
              "101 Dalmatians             | Disney               | 144880014 | 869280100        | 1961\n",
              "2001: A Space Odyssey      | MGM                  | 56954992  | 377027700        | 1968\n",
              "9 to 5                     | Fox                  | 103290500 | 334062200        | 1980\n",
              "A Star Is Born (1976)      | Warner Bros.         | 80000000  | 326760600        | 1976\n",
              "Air Force One              | Sony                 | 172956409 | 327752300        | 1997\n",
              "Airport                    | Universal            | 100489151 | 575168200        | 1970\n",
              "Aladdin                    | Buena Vista (Disney) | 217350219 | 456248400        | 1992\n",
              "Alice in Wonderland (2010) | Buena Vista (Disney) | 334191110 | 365718600        | 2010\n",
              "American Graffiti          | Universal            | 115000000 | 571714300        | 1973\n",
              "American Sniper            | Warner Bros.         | 350126372 | 374796000        | 2014\n",
              "... (190 rows omitted)"
            ]
          },
          "metadata": {
            "tags": []
          },
          "execution_count": 43
        }
      ]
    },
    {
      "cell_type": "code",
      "metadata": {
        "id": "0__7P-6E0YI2",
        "colab": {
          "base_uri": "https://localhost:8080/",
          "height": 372
        },
        "outputId": "0983eb3f-103e-432e-8eb3-cb75b4413c63"
      },
      "source": [
        "# 2. Select ‘Title’ and ‘Year’ of the ‘table1’, into another table and name is ‘table2’.\n",
        "\n",
        "table2=table1.select('Title','Year')\n",
        "table2\n",
        "\n"
      ],
      "execution_count": null,
      "outputs": [
        {
          "output_type": "execute_result",
          "data": {
            "text/html": [
              "<table border=\"1\" class=\"dataframe\">\n",
              "    <thead>\n",
              "        <tr>\n",
              "            <th>Title</th> <th>Year</th>\n",
              "        </tr>\n",
              "    </thead>\n",
              "    <tbody>\n",
              "        <tr>\n",
              "            <td>101 Dalmatians            </td> <td>1961</td>\n",
              "        </tr>\n",
              "        <tr>\n",
              "            <td>2001: A Space Odyssey     </td> <td>1968</td>\n",
              "        </tr>\n",
              "        <tr>\n",
              "            <td>9 to 5                    </td> <td>1980</td>\n",
              "        </tr>\n",
              "        <tr>\n",
              "            <td>A Star Is Born (1976)     </td> <td>1976</td>\n",
              "        </tr>\n",
              "        <tr>\n",
              "            <td>Air Force One             </td> <td>1997</td>\n",
              "        </tr>\n",
              "        <tr>\n",
              "            <td>Airport                   </td> <td>1970</td>\n",
              "        </tr>\n",
              "        <tr>\n",
              "            <td>Aladdin                   </td> <td>1992</td>\n",
              "        </tr>\n",
              "        <tr>\n",
              "            <td>Alice in Wonderland (2010)</td> <td>2010</td>\n",
              "        </tr>\n",
              "        <tr>\n",
              "            <td>American Graffiti         </td> <td>1973</td>\n",
              "        </tr>\n",
              "        <tr>\n",
              "            <td>American Sniper           </td> <td>2014</td>\n",
              "        </tr>\n",
              "    </tbody>\n",
              "</table>\n",
              "<p>... (190 rows omitted)</p>"
            ],
            "text/plain": [
              "Title                      | Year\n",
              "101 Dalmatians             | 1961\n",
              "2001: A Space Odyssey      | 1968\n",
              "9 to 5                     | 1980\n",
              "A Star Is Born (1976)      | 1976\n",
              "Air Force One              | 1997\n",
              "Airport                    | 1970\n",
              "Aladdin                    | 1992\n",
              "Alice in Wonderland (2010) | 2010\n",
              "American Graffiti          | 1973\n",
              "American Sniper            | 2014\n",
              "... (190 rows omitted)"
            ]
          },
          "metadata": {
            "tags": []
          },
          "execution_count": 44
        }
      ]
    },
    {
      "cell_type": "code",
      "metadata": {
        "id": "-kJwNDVW0bGf",
        "colab": {
          "base_uri": "https://localhost:8080/",
          "height": 218
        },
        "outputId": "b4e04305-85cf-495e-fc6d-396f32a6f3b7"
      },
      "source": [
        "# 3. Select only the movies from ‘table1’ where the gross revenues generated by the movie exceeds 100 million.\n",
        "\n",
        "table3=table1.where('Gross',are.above(100000000))\n",
        "print(table3)"
      ],
      "execution_count": null,
      "outputs": [
        {
          "output_type": "stream",
          "text": [
            "Title                      | Studio               | Gross     | Gross (Adjusted) | Year\n",
            "101 Dalmatians             | Disney               | 144880014 | 869280100        | 1961\n",
            "9 to 5                     | Fox                  | 103290500 | 334062200        | 1980\n",
            "Air Force One              | Sony                 | 172956409 | 327752300        | 1997\n",
            "Airport                    | Universal            | 100489151 | 575168200        | 1970\n",
            "Aladdin                    | Buena Vista (Disney) | 217350219 | 456248400        | 1992\n",
            "Alice in Wonderland (2010) | Buena Vista (Disney) | 334191110 | 365718600        | 2010\n",
            "American Graffiti          | Universal            | 115000000 | 571714300        | 1973\n",
            "American Sniper            | Warner Bros.         | 350126372 | 374796000        | 2014\n",
            "An Officer and a Gentleman | Paramount            | 129795554 | 379814600        | 1982\n",
            "Apollo 13                  | Universal            | 173837933 | 346762300        | 1995\n",
            "... (150 rows omitted)\n"
          ],
          "name": "stdout"
        }
      ]
    },
    {
      "cell_type": "code",
      "metadata": {
        "id": "xmawxXOu1Jsf",
        "colab": {
          "base_uri": "https://localhost:8080/",
          "height": 218
        },
        "outputId": "90ead5fe-9e51-45d5-c835-4b511ad2dfde"
      },
      "source": [
        "# 4. Select only the movies from ‘table1’ where the gross revenues generated by the movie is between 100 and 200 million.\n",
        "table4=table1.where('Gross',are.between(100000000, 200000000))\n",
        "print(table4)"
      ],
      "execution_count": null,
      "outputs": [
        {
          "output_type": "stream",
          "text": [
            "Title                      | Studio       | Gross     | Gross (Adjusted) | Year\n",
            "101 Dalmatians             | Disney       | 144880014 | 869280100        | 1961\n",
            "9 to 5                     | Fox          | 103290500 | 334062200        | 1980\n",
            "Air Force One              | Sony         | 172956409 | 327752300        | 1997\n",
            "Airport                    | Universal    | 100489151 | 575168200        | 1970\n",
            "American Graffiti          | Universal    | 115000000 | 571714300        | 1973\n",
            "An Officer and a Gentleman | Paramount    | 129795554 | 379814600        | 1982\n",
            "Apollo 13                  | Universal    | 173837933 | 346762300        | 1995\n",
            "Bambi                      | RKO          | 102247150 | 554298300        | 1942\n",
            "Batman Forever             | Warner Bros. | 184031112 | 368062200        | 1995\n",
            "Batman Returns             | Warner Bros. | 162831698 | 341358000        | 1992\n",
            "... (50 rows omitted)\n"
          ],
          "name": "stdout"
        }
      ]
    },
    {
      "cell_type": "code",
      "metadata": {
        "id": "xn7ytZpazBia",
        "colab": {
          "base_uri": "https://localhost:8080/",
          "height": 372
        },
        "outputId": "d1e635cf-27a0-4849-d8bb-8a0ea5bead56"
      },
      "source": [
        "# 5. Select movies where the word ‘the’ appears in the title of the movie.\n",
        "\n",
        "table1.where('Title', are.containing('the')) "
      ],
      "execution_count": null,
      "outputs": [
        {
          "output_type": "execute_result",
          "data": {
            "text/html": [
              "<table border=\"1\" class=\"dataframe\">\n",
              "    <thead>\n",
              "        <tr>\n",
              "            <th>Title</th> <th>Studio</th> <th>Gross</th> <th>Gross (Adjusted)</th> <th>Year</th>\n",
              "        </tr>\n",
              "    </thead>\n",
              "    <tbody>\n",
              "        <tr>\n",
              "            <td>Around the World in 80 Days                </td> <td>UA                  </td> <td>42000000 </td> <td>562153800       </td> <td>1956</td>\n",
              "        </tr>\n",
              "        <tr>\n",
              "            <td>Back to the Future                         </td> <td>Universal           </td> <td>210609762</td> <td>513740700       </td> <td>1985</td>\n",
              "        </tr>\n",
              "        <tr>\n",
              "            <td>Beauty and the Beast                       </td> <td>Buena Vista (Disney)</td> <td>218967620</td> <td>394664300       </td> <td>1991</td>\n",
              "        </tr>\n",
              "        <tr>\n",
              "            <td>Butch Cassidy and the Sundance Kid         </td> <td>Fox                 </td> <td>102308889</td> <td>613853300       </td> <td>1969</td>\n",
              "        </tr>\n",
              "        <tr>\n",
              "            <td>Close Encounters of the Third Kind         </td> <td>Columbia            </td> <td>132088635</td> <td>483507200       </td> <td>1977</td>\n",
              "        </tr>\n",
              "        <tr>\n",
              "            <td>Duel in the Sun                            </td> <td>Selz.               </td> <td>20408163 </td> <td>443877500       </td> <td>1946</td>\n",
              "        </tr>\n",
              "        <tr>\n",
              "            <td>Gone with the Wind                         </td> <td>MGM                 </td> <td>198676459</td> <td>1757788200      </td> <td>1939</td>\n",
              "        </tr>\n",
              "        <tr>\n",
              "            <td>Guardians of the Galaxy                    </td> <td>Buena Vista (Disney)</td> <td>333176600</td> <td>358244800       </td> <td>2014</td>\n",
              "        </tr>\n",
              "        <tr>\n",
              "            <td>Harry Potter and the Chamber of Secrets    </td> <td>Warner Bros.        </td> <td>261988482</td> <td>390768100       </td> <td>2002</td>\n",
              "        </tr>\n",
              "        <tr>\n",
              "            <td>Harry Potter and the Deathly Hallows Part 2</td> <td>Warner Bros.        </td> <td>381011219</td> <td>417512200       </td> <td>2011</td>\n",
              "        </tr>\n",
              "    </tbody>\n",
              "</table>\n",
              "<p>... (33 rows omitted)</p>"
            ],
            "text/plain": [
              "Title                                       | Studio               | Gross     | Gross (Adjusted) | Year\n",
              "Around the World in 80 Days                 | UA                   | 42000000  | 562153800        | 1956\n",
              "Back to the Future                          | Universal            | 210609762 | 513740700        | 1985\n",
              "Beauty and the Beast                        | Buena Vista (Disney) | 218967620 | 394664300        | 1991\n",
              "Butch Cassidy and the Sundance Kid          | Fox                  | 102308889 | 613853300        | 1969\n",
              "Close Encounters of the Third Kind          | Columbia             | 132088635 | 483507200        | 1977\n",
              "Duel in the Sun                             | Selz.                | 20408163  | 443877500        | 1946\n",
              "Gone with the Wind                          | MGM                  | 198676459 | 1757788200       | 1939\n",
              "Guardians of the Galaxy                     | Buena Vista (Disney) | 333176600 | 358244800        | 2014\n",
              "Harry Potter and the Chamber of Secrets     | Warner Bros.         | 261988482 | 390768100        | 2002\n",
              "Harry Potter and the Deathly Hallows Part 2 | Warner Bros.         | 381011219 | 417512200        | 2011\n",
              "... (33 rows omitted)"
            ]
          },
          "metadata": {
            "tags": []
          },
          "execution_count": 47
        }
      ]
    },
    {
      "cell_type": "code",
      "metadata": {
        "id": "ZQAWSLGQB80y",
        "colab": {
          "base_uri": "https://localhost:8080/",
          "height": 372
        },
        "outputId": "88fbe994-805b-4694-e72a-652399589374"
      },
      "source": [
        "# Sort the movies in ‘table1’ in descending order (highest value first) by their ‘Gross’ revenues.\n",
        "# Which movie made the most amount of money based on ‘Gross’ column? Star Wars: The Force Awakens\n",
        "\n",
        "table1.sort('Gross',descending=True )"
      ],
      "execution_count": null,
      "outputs": [
        {
          "output_type": "execute_result",
          "data": {
            "text/html": [
              "<table border=\"1\" class=\"dataframe\">\n",
              "    <thead>\n",
              "        <tr>\n",
              "            <th>Title</th> <th>Studio</th> <th>Gross</th> <th>Gross (Adjusted)</th> <th>Year</th>\n",
              "        </tr>\n",
              "    </thead>\n",
              "    <tbody>\n",
              "        <tr>\n",
              "            <td>Star Wars: The Force Awakens             </td> <td>Buena Vista (Disney)</td> <td>906723418</td> <td>906723400       </td> <td>2015</td>\n",
              "        </tr>\n",
              "        <tr>\n",
              "            <td>Avatar                                   </td> <td>Fox                 </td> <td>760507625</td> <td>846120800       </td> <td>2009</td>\n",
              "        </tr>\n",
              "        <tr>\n",
              "            <td>Titanic                                  </td> <td>Paramount           </td> <td>658672302</td> <td>1178627900      </td> <td>1997</td>\n",
              "        </tr>\n",
              "        <tr>\n",
              "            <td>Jurassic World                           </td> <td>Universal           </td> <td>652270625</td> <td>687728000       </td> <td>2015</td>\n",
              "        </tr>\n",
              "        <tr>\n",
              "            <td>Marvel's The Avengers                    </td> <td>Buena Vista (Disney)</td> <td>623357910</td> <td>668866600       </td> <td>2012</td>\n",
              "        </tr>\n",
              "        <tr>\n",
              "            <td>The Dark Knight                          </td> <td>Warner Bros.        </td> <td>534858444</td> <td>647761600       </td> <td>2008</td>\n",
              "        </tr>\n",
              "        <tr>\n",
              "            <td>Star Wars: Episode I - The Phantom Menace</td> <td>Fox                 </td> <td>474544677</td> <td>785715000       </td> <td>1999</td>\n",
              "        </tr>\n",
              "        <tr>\n",
              "            <td>Star Wars                                </td> <td>Fox                 </td> <td>460998007</td> <td>1549640500      </td> <td>1977</td>\n",
              "        </tr>\n",
              "        <tr>\n",
              "            <td>Avengers: Age of Ultron                  </td> <td>Buena Vista (Disney)</td> <td>459005868</td> <td>465684200       </td> <td>2015</td>\n",
              "        </tr>\n",
              "        <tr>\n",
              "            <td>The Dark Knight Rises                    </td> <td>Warner Bros.        </td> <td>448139099</td> <td>500961700       </td> <td>2012</td>\n",
              "        </tr>\n",
              "    </tbody>\n",
              "</table>\n",
              "<p>... (190 rows omitted)</p>"
            ],
            "text/plain": [
              "Title                                     | Studio               | Gross     | Gross (Adjusted) | Year\n",
              "Star Wars: The Force Awakens              | Buena Vista (Disney) | 906723418 | 906723400        | 2015\n",
              "Avatar                                    | Fox                  | 760507625 | 846120800        | 2009\n",
              "Titanic                                   | Paramount            | 658672302 | 1178627900       | 1997\n",
              "Jurassic World                            | Universal            | 652270625 | 687728000        | 2015\n",
              "Marvel's The Avengers                     | Buena Vista (Disney) | 623357910 | 668866600        | 2012\n",
              "The Dark Knight                           | Warner Bros.         | 534858444 | 647761600        | 2008\n",
              "Star Wars: Episode I - The Phantom Menace | Fox                  | 474544677 | 785715000        | 1999\n",
              "Star Wars                                 | Fox                  | 460998007 | 1549640500       | 1977\n",
              "Avengers: Age of Ultron                   | Buena Vista (Disney) | 459005868 | 465684200        | 2015\n",
              "The Dark Knight Rises                     | Warner Bros.         | 448139099 | 500961700        | 2012\n",
              "... (190 rows omitted)"
            ]
          },
          "metadata": {
            "tags": []
          },
          "execution_count": 48
        }
      ]
    },
    {
      "cell_type": "code",
      "metadata": {
        "id": "fYMnxbPJDDzC",
        "colab": {
          "base_uri": "https://localhost:8080/",
          "height": 372
        },
        "outputId": "89c52162-3604-49ad-b4f7-d976d357ef09"
      },
      "source": [
        "# Sort the movies in ‘table1’ in descending order (highest value first) by their ‘Gross’ revenues.\n",
        "# Which movie made the most amount of money based on ‘Gross (Adjusted)’ column?: Gone With the Wind\n",
        "\n",
        "table1.sort('Gross (Adjusted)',descending=True )"
      ],
      "execution_count": null,
      "outputs": [
        {
          "output_type": "execute_result",
          "data": {
            "text/html": [
              "<table border=\"1\" class=\"dataframe\">\n",
              "    <thead>\n",
              "        <tr>\n",
              "            <th>Title</th> <th>Studio</th> <th>Gross</th> <th>Gross (Adjusted)</th> <th>Year</th>\n",
              "        </tr>\n",
              "    </thead>\n",
              "    <tbody>\n",
              "        <tr>\n",
              "            <td>Gone with the Wind             </td> <td>MGM         </td> <td>198676459</td> <td>1757788200      </td> <td>1939</td>\n",
              "        </tr>\n",
              "        <tr>\n",
              "            <td>Star Wars                      </td> <td>Fox         </td> <td>460998007</td> <td>1549640500      </td> <td>1977</td>\n",
              "        </tr>\n",
              "        <tr>\n",
              "            <td>The Sound of Music             </td> <td>Fox         </td> <td>158671368</td> <td>1239013800      </td> <td>1965</td>\n",
              "        </tr>\n",
              "        <tr>\n",
              "            <td>E.T.: The Extra-Terrestrial    </td> <td>Universal   </td> <td>435110554</td> <td>1234132700      </td> <td>1982</td>\n",
              "        </tr>\n",
              "        <tr>\n",
              "            <td>Titanic                        </td> <td>Paramount   </td> <td>658672302</td> <td>1178627900      </td> <td>1997</td>\n",
              "        </tr>\n",
              "        <tr>\n",
              "            <td>The Ten Commandments           </td> <td>Paramount   </td> <td>65500000 </td> <td>1139700000      </td> <td>1956</td>\n",
              "        </tr>\n",
              "        <tr>\n",
              "            <td>Jaws                           </td> <td>Universal   </td> <td>260000000</td> <td>1114285700      </td> <td>1975</td>\n",
              "        </tr>\n",
              "        <tr>\n",
              "            <td>Doctor Zhivago                 </td> <td>MGM         </td> <td>111721910</td> <td>1079978500      </td> <td>1965</td>\n",
              "        </tr>\n",
              "        <tr>\n",
              "            <td>The Exorcist                   </td> <td>Warner Bros.</td> <td>232906145</td> <td>962212800       </td> <td>1973</td>\n",
              "        </tr>\n",
              "        <tr>\n",
              "            <td>Snow White and the Seven Dwarfs</td> <td>Disney      </td> <td>184925486</td> <td>948300000       </td> <td>1937</td>\n",
              "        </tr>\n",
              "    </tbody>\n",
              "</table>\n",
              "<p>... (190 rows omitted)</p>"
            ],
            "text/plain": [
              "Title                           | Studio       | Gross     | Gross (Adjusted) | Year\n",
              "Gone with the Wind              | MGM          | 198676459 | 1757788200       | 1939\n",
              "Star Wars                       | Fox          | 460998007 | 1549640500       | 1977\n",
              "The Sound of Music              | Fox          | 158671368 | 1239013800       | 1965\n",
              "E.T.: The Extra-Terrestrial     | Universal    | 435110554 | 1234132700       | 1982\n",
              "Titanic                         | Paramount    | 658672302 | 1178627900       | 1997\n",
              "The Ten Commandments            | Paramount    | 65500000  | 1139700000       | 1956\n",
              "Jaws                            | Universal    | 260000000 | 1114285700       | 1975\n",
              "Doctor Zhivago                  | MGM          | 111721910 | 1079978500       | 1965\n",
              "The Exorcist                    | Warner Bros. | 232906145 | 962212800        | 1973\n",
              "Snow White and the Seven Dwarfs | Disney       | 184925486 | 948300000        | 1937\n",
              "... (190 rows omitted)"
            ]
          },
          "metadata": {
            "tags": []
          },
          "execution_count": 49
        }
      ]
    },
    {
      "cell_type": "code",
      "metadata": {
        "id": "au2Res7IELNR",
        "colab": {
          "base_uri": "https://localhost:8080/",
          "height": 372
        },
        "outputId": "0a2a4527-2fe5-48b4-e4b8-aec100a4247e"
      },
      "source": [
        "# 7. Select the highest grossing movies of each studio (hint: first sort by highest grossing movies\n",
        "# and then sort again by studio name with ‘distinct=True’ option).\n",
        "# Which is the highest grossing movie of ‘Columbia’ and ‘Fox’ studios? Columbia==Ghostbusters, Fox: Avatar\n",
        "\n",
        "table1.sort('Gross',descending=True ).sort('Studio',distinct=True )"
      ],
      "execution_count": null,
      "outputs": [
        {
          "output_type": "execute_result",
          "data": {
            "text/html": [
              "<table border=\"1\" class=\"dataframe\">\n",
              "    <thead>\n",
              "        <tr>\n",
              "            <th>Title</th> <th>Studio</th> <th>Gross</th> <th>Gross (Adjusted)</th> <th>Year</th>\n",
              "        </tr>\n",
              "    </thead>\n",
              "    <tbody>\n",
              "        <tr>\n",
              "            <td>The Graduate                       </td> <td>AVCO                </td> <td>104945305</td> <td>744517700       </td> <td>1967</td>\n",
              "        </tr>\n",
              "        <tr>\n",
              "            <td>Star Wars: The Force Awakens       </td> <td>Buena Vista (Disney)</td> <td>906723418</td> <td>906723400       </td> <td>2015</td>\n",
              "        </tr>\n",
              "        <tr>\n",
              "            <td>Ghostbusters                       </td> <td>Columbia            </td> <td>242212467</td> <td>619211400       </td> <td>1984</td>\n",
              "        </tr>\n",
              "        <tr>\n",
              "            <td>Snow White and the Seven Dwarfs    </td> <td>Disney              </td> <td>184925486</td> <td>948300000       </td> <td>1937</td>\n",
              "        </tr>\n",
              "        <tr>\n",
              "            <td>Shrek 2                            </td> <td>Dreamworks          </td> <td>441226247</td> <td>618143100       </td> <td>2004</td>\n",
              "        </tr>\n",
              "        <tr>\n",
              "            <td>Avatar                             </td> <td>Fox                 </td> <td>760507625</td> <td>846120800       </td> <td>2009</td>\n",
              "        </tr>\n",
              "        <tr>\n",
              "            <td>My Big Fat Greek Wedding           </td> <td>IFC                 </td> <td>241438208</td> <td>360349500       </td> <td>2002</td>\n",
              "        </tr>\n",
              "        <tr>\n",
              "            <td>The Hunger Games: Catching Fire    </td> <td>Lionsgate           </td> <td>424668047</td> <td>444697400       </td> <td>2013</td>\n",
              "        </tr>\n",
              "        <tr>\n",
              "            <td>Gone with the Wind                 </td> <td>MGM                 </td> <td>198676459</td> <td>1757788200      </td> <td>1939</td>\n",
              "        </tr>\n",
              "        <tr>\n",
              "            <td>The Four Horsemen of the Apocalypse</td> <td>MPC                 </td> <td>9183673  </td> <td>399489800       </td> <td>1921</td>\n",
              "        </tr>\n",
              "    </tbody>\n",
              "</table>\n",
              "<p>... (14 rows omitted)</p>"
            ],
            "text/plain": [
              "Title                               | Studio               | Gross     | Gross (Adjusted) | Year\n",
              "The Graduate                        | AVCO                 | 104945305 | 744517700        | 1967\n",
              "Star Wars: The Force Awakens        | Buena Vista (Disney) | 906723418 | 906723400        | 2015\n",
              "Ghostbusters                        | Columbia             | 242212467 | 619211400        | 1984\n",
              "Snow White and the Seven Dwarfs     | Disney               | 184925486 | 948300000        | 1937\n",
              "Shrek 2                             | Dreamworks           | 441226247 | 618143100        | 2004\n",
              "Avatar                              | Fox                  | 760507625 | 846120800        | 2009\n",
              "My Big Fat Greek Wedding            | IFC                  | 241438208 | 360349500        | 2002\n",
              "The Hunger Games: Catching Fire     | Lionsgate            | 424668047 | 444697400        | 2013\n",
              "Gone with the Wind                  | MGM                  | 198676459 | 1757788200       | 1939\n",
              "The Four Horsemen of the Apocalypse | MPC                  | 9183673   | 399489800        | 1921\n",
              "... (14 rows omitted)"
            ]
          },
          "metadata": {
            "tags": []
          },
          "execution_count": 50
        }
      ]
    },
    {
      "cell_type": "code",
      "metadata": {
        "id": "4FIZWJBgJCjN",
        "colab": {
          "base_uri": "https://localhost:8080/",
          "height": 713
        },
        "outputId": "37ac807a-0c86-4e6e-e01d-6076ba8f182e"
      },
      "source": [
        "import numpy as np\n",
        "%matplotlib inline \n",
        "# 8. The following bar graph shows studios and movies as a function of ‘Gross’ and ‘Gross(Adjusted)’ figures. Generate the following graph using this data file.\n",
        "\n",
        "table1.sort('Gross',descending=True ).sort('Studio',distinct=True ).sort('Gross', descending=False).barh(1,select=[2,3],overlay=True)\n"
      ],
      "execution_count": null,
      "outputs": [
        {
          "output_type": "display_data",
          "data": {
            "image/png": "[encoded data removed]",
            "text/plain": [
              "<Figure size 432x864 with 1 Axes>"
            ]
          },
          "metadata": {
            "tags": [],
            "needs_background": "light"
          }
        }
      ]
    },
    {
      "cell_type": "code",
      "metadata": {
        "id": "8wwA6C3-Mvzv",
        "colab": {
          "base_uri": "https://localhost:8080/",
          "height": 343
        },
        "outputId": "65df0a15-391c-4bb4-d6f1-f0b7cd9b8196"
      },
      "source": [
        "# 9. Compute the ratio between ‘Gross (Adjusted)’ and ‘Gross’ for all movies. Next sort the table by the ratio in descending order. Display the top 10 ratios.\n",
        "table1.with_column('Ratio',table1.column('Gross (Adjusted)')/table1.column('Gross')).sort('Ratio',descending=True ).set_format('Ratio', PercentFormatter).take[:10]\n",
        "# table3.sort('Ratio',descending=True ).set_format('Ratio', PercentFormatter).take[:10]\n"
      ],
      "execution_count": null,
      "outputs": [
        {
          "output_type": "execute_result",
          "data": {
            "text/html": [
              "<table border=\"1\" class=\"dataframe\">\n",
              "    <thead>\n",
              "        <tr>\n",
              "            <th>Title</th> <th>Studio</th> <th>Gross</th> <th>Gross (Adjusted)</th> <th>Year</th> <th>Ratio</th>\n",
              "        </tr>\n",
              "    </thead>\n",
              "    <tbody>\n",
              "        <tr>\n",
              "            <td>The Four Horsemen of the Apocalypse</td> <td>MPC         </td> <td>9183673 </td> <td>399489800       </td> <td>1921</td> <td>4350.00%</td>\n",
              "        </tr>\n",
              "        <tr>\n",
              "            <td>The Bells of St. Mary's            </td> <td>RKO         </td> <td>21333333</td> <td>545882400       </td> <td>1945</td> <td>2558.82%</td>\n",
              "        </tr>\n",
              "        <tr>\n",
              "            <td>Sergeant York                      </td> <td>Warner Bros.</td> <td>16361885</td> <td>418671800       </td> <td>1941</td> <td>2558.82%</td>\n",
              "        </tr>\n",
              "        <tr>\n",
              "            <td>Duel in the Sun                    </td> <td>Selz.       </td> <td>20408163</td> <td>443877500       </td> <td>1946</td> <td>2175.00%</td>\n",
              "        </tr>\n",
              "        <tr>\n",
              "            <td>The Best Years of Our Lives        </td> <td>RKO         </td> <td>23650000</td> <td>478500000       </td> <td>1946</td> <td>2023.26%</td>\n",
              "        </tr>\n",
              "        <tr>\n",
              "            <td>House of Wax                       </td> <td>Warner Bros.</td> <td>23750000</td> <td>439627700       </td> <td>1953</td> <td>1851.06%</td>\n",
              "        </tr>\n",
              "        <tr>\n",
              "            <td>The Caine Mutiny                   </td> <td>Columbia    </td> <td>21750000</td> <td>386173500       </td> <td>1954</td> <td>1775.51%</td>\n",
              "        </tr>\n",
              "        <tr>\n",
              "            <td>The Ten Commandments               </td> <td>Paramount   </td> <td>65500000</td> <td>1139700000      </td> <td>1956</td> <td>1740.00%</td>\n",
              "        </tr>\n",
              "        <tr>\n",
              "            <td>The Bridge on the River Kwai       </td> <td>Columbia    </td> <td>27200000</td> <td>473280000       </td> <td>1957</td> <td>1740.00%</td>\n",
              "        </tr>\n",
              "        <tr>\n",
              "            <td>The Robe                           </td> <td>Fox         </td> <td>36000000</td> <td>569454500       </td> <td>1953</td> <td>1581.82%</td>\n",
              "        </tr>\n",
              "    </tbody>\n",
              "</table>"
            ],
            "text/plain": [
              "Title                               | Studio       | Gross    | Gross (Adjusted) | Year | Ratio\n",
              "The Four Horsemen of the Apocalypse | MPC          | 9183673  | 399489800        | 1921 | 4350.00%\n",
              "The Bells of St. Mary's             | RKO          | 21333333 | 545882400        | 1945 | 2558.82%\n",
              "Sergeant York                       | Warner Bros. | 16361885 | 418671800        | 1941 | 2558.82%\n",
              "Duel in the Sun                     | Selz.        | 20408163 | 443877500        | 1946 | 2175.00%\n",
              "The Best Years of Our Lives         | RKO          | 23650000 | 478500000        | 1946 | 2023.26%\n",
              "House of Wax                        | Warner Bros. | 23750000 | 439627700        | 1953 | 1851.06%\n",
              "The Caine Mutiny                    | Columbia     | 21750000 | 386173500        | 1954 | 1775.51%\n",
              "The Ten Commandments                | Paramount    | 65500000 | 1139700000       | 1956 | 1740.00%\n",
              "The Bridge on the River Kwai        | Columbia     | 27200000 | 473280000        | 1957 | 1740.00%\n",
              "The Robe                            | Fox          | 36000000 | 569454500        | 1953 | 1581.82%"
            ]
          },
          "metadata": {
            "tags": []
          },
          "execution_count": 56
        }
      ]
    },
    {
      "cell_type": "code",
      "metadata": {
        "id": "8UuA94hIU5hq",
        "colab": {
          "base_uri": "https://localhost:8080/",
          "height": 372
        },
        "outputId": "7cd87082-b064-47fd-8857-f9ff059d294f"
      },
      "source": [
        "# 10. Group all the movies by the year in which they were released. In which year has the maximum number of movies released? 2015,2009,2004,2002 all had 6 movies released to top the list\n",
        "\n",
        "table4=table1.group('Year')\n",
        "table4.sort('count',descending=True)"
      ],
      "execution_count": null,
      "outputs": [
        {
          "output_type": "execute_result",
          "data": {
            "text/html": [
              "<table border=\"1\" class=\"dataframe\">\n",
              "    <thead>\n",
              "        <tr>\n",
              "            <th>Year</th> <th>count</th>\n",
              "        </tr>\n",
              "    </thead>\n",
              "    <tbody>\n",
              "        <tr>\n",
              "            <td>2015</td> <td>6    </td>\n",
              "        </tr>\n",
              "        <tr>\n",
              "            <td>2009</td> <td>6    </td>\n",
              "        </tr>\n",
              "        <tr>\n",
              "            <td>2004</td> <td>6    </td>\n",
              "        </tr>\n",
              "        <tr>\n",
              "            <td>2002</td> <td>6    </td>\n",
              "        </tr>\n",
              "        <tr>\n",
              "            <td>2012</td> <td>5    </td>\n",
              "        </tr>\n",
              "        <tr>\n",
              "            <td>2007</td> <td>5    </td>\n",
              "        </tr>\n",
              "        <tr>\n",
              "            <td>2003</td> <td>5    </td>\n",
              "        </tr>\n",
              "        <tr>\n",
              "            <td>2001</td> <td>5    </td>\n",
              "        </tr>\n",
              "        <tr>\n",
              "            <td>1997</td> <td>5    </td>\n",
              "        </tr>\n",
              "        <tr>\n",
              "            <td>1982</td> <td>5    </td>\n",
              "        </tr>\n",
              "    </tbody>\n",
              "</table>\n",
              "<p>... (60 rows omitted)</p>"
            ],
            "text/plain": [
              "Year | count\n",
              "2015 | 6\n",
              "2009 | 6\n",
              "2004 | 6\n",
              "2002 | 6\n",
              "2012 | 5\n",
              "2007 | 5\n",
              "2003 | 5\n",
              "2001 | 5\n",
              "1997 | 5\n",
              "1982 | 5\n",
              "... (60 rows omitted)"
            ]
          },
          "metadata": {
            "tags": []
          },
          "execution_count": 53
        }
      ]
    }
  ]
}